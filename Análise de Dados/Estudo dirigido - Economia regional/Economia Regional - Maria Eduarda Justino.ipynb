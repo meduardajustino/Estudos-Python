{
 "cells": [
  {
   "cell_type": "markdown",
   "id": "3c0a4310",
   "metadata": {},
   "source": [
    "## Estudo dirigido de Economia Regional\n",
    "\n",
    "1.Em quais estados brasileiros estão concentrados o emprego? Comparando com os EUA, a concentração do emprego é maior ou menor (dados disponíveis na SIDRA-IBGE RAIS e na PNAD)\n",
    "\n",
    "2.Qual a percentagem da população brasileira, em 2018 vivia nos estados que detêm a maior parcela do emprego? Fazer um gráfico mostrando como vem sendo esta evolução de 1999 ate 2019.\n",
    "\n",
    "3.Quais e quantos são os estados brasileiros cujo PIB per capita é inferior a 75% do PIB nacional em 2019? Qual a percentagem da população brasileira vivi nestes estados em 2019?\n",
    "\n",
    "4.Faça um gráfico do PIB per capita das 5 macro regiões brasileiras (Norte, Nordeste, Sul, Sudeste e Centro Oeste) entre 1996 a 2021. Identifique se existiu redução da desigualdade.\n",
    "\n",
    "5.Faça um mapa do Brasil para os itens abaixo e compare os resultados:\n",
    "- taxas de desemprego\n",
    "- PIB industrial per capita\n",
    " \n",
    "\n",
    "6.Faça um mapa do Brasil para, para os itens abaixo e compare os resultados:\n",
    "- Índice de Gini\n",
    "- renda per capita"
   ]
  },
  {
   "cell_type": "markdown",
   "id": "516d339d",
   "metadata": {},
   "source": [
    "### Importar planilhas e tratar dados"
   ]
  },
  {
   "cell_type": "code",
   "execution_count": 1,
   "id": "2dd62fb4",
   "metadata": {},
   "outputs": [],
   "source": [
    "# bibliotecas usadas\n",
    "import pandas as pd\n",
    "import numpy as np\n",
    "import matplotlib as plt"
   ]
  },
  {
   "cell_type": "code",
   "execution_count": 3,
   "id": "feb61c28",
   "metadata": {},
   "outputs": [
    {
     "name": "stderr",
     "output_type": "stream",
     "text": [
      "<>:1: SyntaxWarning: invalid escape sequence '\\{'\n",
      "<>:2: SyntaxWarning: invalid escape sequence '\\{'\n",
      "<>:3: SyntaxWarning: invalid escape sequence '\\{'\n",
      "<>:4: SyntaxWarning: invalid escape sequence '\\{'\n",
      "<>:5: SyntaxWarning: invalid escape sequence '\\{'\n",
      "<>:1: SyntaxWarning: invalid escape sequence '\\{'\n",
      "<>:2: SyntaxWarning: invalid escape sequence '\\{'\n",
      "<>:3: SyntaxWarning: invalid escape sequence '\\{'\n",
      "<>:4: SyntaxWarning: invalid escape sequence '\\{'\n",
      "<>:5: SyntaxWarning: invalid escape sequence '\\{'\n",
      "C:\\Users\\Maria Eduarda\\AppData\\Local\\Temp\\ipykernel_7064\\3101053893.py:1: SyntaxWarning: invalid escape sequence '\\{'\n",
      "  pop_residente_regiao = pd.read_csv('M:\\{estudos}\\Python\\Estudos-Python\\Análise de Dados\\Estudo dirigido - Economia regional\\populacao residente por regiao (1996-2021).csv', sep=';')\n",
      "C:\\Users\\Maria Eduarda\\AppData\\Local\\Temp\\ipykernel_7064\\3101053893.py:2: SyntaxWarning: invalid escape sequence '\\{'\n",
      "  pop_empregada2018 = pd.read_csv('M:\\{estudos}\\Python\\Estudos-Python\\Análise de Dados\\Estudo dirigido - Economia regional\\populacao empregada 2018.csv', sep=';')\n",
      "C:\\Users\\Maria Eduarda\\AppData\\Local\\Temp\\ipykernel_7064\\3101053893.py:3: SyntaxWarning: invalid escape sequence '\\{'\n",
      "  pop_residente_estado = pd.read_csv('M:\\{estudos}\\Python\\Estudos-Python\\Análise de Dados\\Estudo dirigido - Economia regional\\populacao residente por estado (1999-2019).csv', sep=';')\n",
      "C:\\Users\\Maria Eduarda\\AppData\\Local\\Temp\\ipykernel_7064\\3101053893.py:4: SyntaxWarning: invalid escape sequence '\\{'\n",
      "  pib_per_capita = pd.read_csv('M:\\{estudos}\\Python\\Estudos-Python\\Análise de Dados\\Estudo dirigido - Economia regional\\pib estadual per capita (1996-2021).csv', sep=';')\n",
      "C:\\Users\\Maria Eduarda\\AppData\\Local\\Temp\\ipykernel_7064\\3101053893.py:5: SyntaxWarning: invalid escape sequence '\\{'\n",
      "  pib_industrial2021 = pd.read_csv('M:\\{estudos}\\Python\\Estudos-Python\\Análise de Dados\\Estudo dirigido - Economia regional\\pib estadual industrial 2021.csv', sep=';')\n"
     ]
    }
   ],
   "source": [
    "pop_residente_regiao = pd.read_csv('M:\\{estudos}\\Python\\Estudos-Python\\Análise de Dados\\Estudo dirigido - Economia regional\\populacao residente por regiao (1996-2021).csv', sep=';')\n",
    "pop_empregada2018 = pd.read_csv('M:\\{estudos}\\Python\\Estudos-Python\\Análise de Dados\\Estudo dirigido - Economia regional\\populacao empregada 2018.csv', sep=';')\n",
    "pop_residente_estado = pd.read_csv('M:\\{estudos}\\Python\\Estudos-Python\\Análise de Dados\\Estudo dirigido - Economia regional\\populacao residente por estado (1999-2019).csv', sep=';')\n",
    "pib_per_capita = pd.read_csv('M:\\{estudos}\\Python\\Estudos-Python\\Análise de Dados\\Estudo dirigido - Economia regional\\pib estadual per capita (1996-2021).csv', sep=';')\n",
    "pib_industrial2021 = pd.read_csv('M:\\{estudos}\\Python\\Estudos-Python\\Análise de Dados\\Estudo dirigido - Economia regional\\pib estadual industrial 2021.csv', sep=';')\n"
   ]
  },
  {
   "cell_type": "markdown",
   "id": "7b87b995",
   "metadata": {},
   "source": [
    "### Questões propostas"
   ]
  },
  {
   "cell_type": "markdown",
   "id": "52cd07e7",
   "metadata": {},
   "source": [
    "1. Em quais estados brasileiros estão concentrados o emprego? Comparando com os EUA, a concentração do emprego é maior ou menor (dados disponíveis na SIDRA-IBGE RAIS e na PNAD)"
   ]
  },
  {
   "cell_type": "markdown",
   "id": "89d3e348",
   "metadata": {},
   "source": [
    "2. Qual a percentagem da população brasileira, em 2018 vivia nos estados que detêm a maior parcela do emprego? Fazer um gráfico mostrando como vem sendo esta evolução de 1999 ate 2019.\n"
   ]
  },
  {
   "cell_type": "markdown",
   "id": "ac0b8df1",
   "metadata": {},
   "source": [
    "\n",
    "3. Quais e quantos são os estados brasileiros cujo PIB per capita é inferior a 75% do PIB nacional em 2019? Qual a percentagem da população brasileira vivi nestes estados em 2019?"
   ]
  },
  {
   "cell_type": "markdown",
   "id": "8b3f37f7",
   "metadata": {},
   "source": [
    "\n",
    "4. Faça um gráfico do PIB per capita das 5 macro regiões brasileiras (Norte, Nordeste, Sul, Sudeste e Centro Oeste) entre 1996 a 2021. Identifique se existiu redução da desigualdade."
   ]
  },
  {
   "cell_type": "markdown",
   "id": "9c7ad1da",
   "metadata": {},
   "source": [
    "5. Faça um mapa do Brasil para os itens abaixo e compare os resultados:\n",
    "- taxas de desemprego\n",
    "- PIB industrial per capita\n"
   ]
  },
  {
   "cell_type": "markdown",
   "id": "f40cdb20",
   "metadata": {},
   "source": [
    "\n",
    "6. Faça um mapa do Brasil para, para os itens abaixo e compare os resultados:\n",
    "- Índice de Gini\n",
    "- renda per capita"
   ]
  },
  {
   "cell_type": "code",
   "execution_count": null,
   "id": "327400a0",
   "metadata": {},
   "outputs": [],
   "source": []
  },
  {
   "cell_type": "code",
   "execution_count": null,
   "id": "976e4484",
   "metadata": {},
   "outputs": [],
   "source": []
  }
 ],
 "metadata": {
  "kernelspec": {
   "display_name": "Python 3",
   "language": "python",
   "name": "python3"
  },
  "language_info": {
   "codemirror_mode": {
    "name": "ipython",
    "version": 3
   },
   "file_extension": ".py",
   "mimetype": "text/x-python",
   "name": "python",
   "nbconvert_exporter": "python",
   "pygments_lexer": "ipython3",
   "version": "3.13.0"
  }
 },
 "nbformat": 4,
 "nbformat_minor": 5
}

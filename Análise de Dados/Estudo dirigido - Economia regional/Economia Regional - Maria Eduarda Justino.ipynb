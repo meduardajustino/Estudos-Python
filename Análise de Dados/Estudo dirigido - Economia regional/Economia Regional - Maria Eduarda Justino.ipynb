{
 "cells": [
  {
   "cell_type": "markdown",
   "id": "3c0a4310",
   "metadata": {},
   "source": []
  },
  {
   "cell_type": "markdown",
   "id": "86a827f9",
   "metadata": {},
   "source": []
  },
  {
   "cell_type": "code",
   "execution_count": null,
   "id": "da7f9dc4",
   "metadata": {
    "vscode": {
     "languageId": "plaintext"
    }
   },
   "outputs": [],
   "source": []
  },
  {
   "cell_type": "markdown",
   "id": "52cd07e7",
   "metadata": {},
   "source": []
  },
  {
   "cell_type": "markdown",
   "id": "639f0101",
   "metadata": {},
   "source": []
  },
  {
   "cell_type": "markdown",
   "id": "89d3e348",
   "metadata": {},
   "source": []
  },
  {
   "cell_type": "code",
   "execution_count": null,
   "id": "327400a0",
   "metadata": {
    "vscode": {
     "languageId": "plaintext"
    }
   },
   "outputs": [],
   "source": []
  }
 ],
 "metadata": {
  "language_info": {
   "name": "python"
  }
 },
 "nbformat": 4,
 "nbformat_minor": 5
}

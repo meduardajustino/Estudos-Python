{
 "cells": [
  {
   "cell_type": "markdown",
   "id": "3c0a4310",
   "metadata": {},
   "source": [
    "## Estudo dirigido de Economia Regional\n",
    "\n",
    "1.Em quais estados brasileiros estão concentrados o emprego? Comparando com os EUA, a concentração do emprego é maior ou menor (dados disponíveis na SIDRA-IBGE RAIS e na PNAD)\n",
    "\n",
    "2.Qual a percentagem da população brasileira, em 2018 vivia nos estados que detêm a maior parcela do emprego? Fazer um gráfico mostrando como vem sendo esta evolução de 1999 ate 2019.\n",
    "\n",
    "3.Quais e quantos são os estados brasileiros cujo PIB per capita é inferior a 75% do PIB nacional em 2019? Qual a percentagem da população brasileira vivi nestes estados em 2019?\n",
    "\n",
    "4.Faça um gráfico do PIB per capita das 5 macro regiões brasileiras (Norte, Nordeste, Sul, Sudeste e Centro Oeste) entre 1996 a 2021. Identifique se existiu redução da desigualdade.\n",
    "\n",
    "5.Faça um mapa do Brasil para os itens abaixo e compare os resultados:\n",
    "- taxas de desemprego\n",
    "- PIB industrial per capita\n",
    " \n",
    "\n",
    "6.Faça um mapa do Brasil para, para os itens abaixo e compare os resultados:\n",
    "- Índice de Gini\n",
    "- renda per capita"
   ]
  },
  {
   "cell_type": "markdown",
   "id": "516d339d",
   "metadata": {},
   "source": [
    "### Importar planilhas e tratar dados"
   ]
  },
  {
   "cell_type": "code",
   "execution_count": 66,
   "id": "2dd62fb4",
   "metadata": {},
   "outputs": [],
   "source": [
    "# bibliotecas usadas\n",
    "import pandas as pd\n",
    "import numpy as np\n",
    "import matplotlib.pyplot as plt\n",
    "from tabulate import tabulate"
   ]
  },
  {
   "cell_type": "code",
   "execution_count": 67,
   "id": "feb61c28",
   "metadata": {},
   "outputs": [
    {
     "name": "stderr",
     "output_type": "stream",
     "text": [
      "<>:1: SyntaxWarning: invalid escape sequence '\\{'\n",
      "<>:2: SyntaxWarning: invalid escape sequence '\\{'\n",
      "<>:3: SyntaxWarning: invalid escape sequence '\\{'\n",
      "<>:4: SyntaxWarning: invalid escape sequence '\\{'\n",
      "<>:5: SyntaxWarning: invalid escape sequence '\\{'\n",
      "<>:1: SyntaxWarning: invalid escape sequence '\\{'\n",
      "<>:2: SyntaxWarning: invalid escape sequence '\\{'\n",
      "<>:3: SyntaxWarning: invalid escape sequence '\\{'\n",
      "<>:4: SyntaxWarning: invalid escape sequence '\\{'\n",
      "<>:5: SyntaxWarning: invalid escape sequence '\\{'\n",
      "C:\\Users\\Maria Eduarda\\AppData\\Local\\Temp\\ipykernel_7064\\1942862282.py:1: SyntaxWarning: invalid escape sequence '\\{'\n",
      "  pop_residente_regiao = pd.read_csv('M:\\{estudos}\\Python\\Estudos-Python\\Análise de Dados\\Estudo dirigido - Economia regional\\populacao residente por regiao (1996-2021).csv', sep=';')\n",
      "C:\\Users\\Maria Eduarda\\AppData\\Local\\Temp\\ipykernel_7064\\1942862282.py:2: SyntaxWarning: invalid escape sequence '\\{'\n",
      "  pop_residente_estado = pd.read_csv('M:\\{estudos}\\Python\\Estudos-Python\\Análise de Dados\\Estudo dirigido - Economia regional\\populacao residente por estado (1999-2019).csv', sep=';')\n",
      "C:\\Users\\Maria Eduarda\\AppData\\Local\\Temp\\ipykernel_7064\\1942862282.py:3: SyntaxWarning: invalid escape sequence '\\{'\n",
      "  pib_per_capita = pd.read_csv('M:\\{estudos}\\Python\\Estudos-Python\\Análise de Dados\\Estudo dirigido - Economia regional\\pib estadual per capita (1996-2021).csv', sep=';')\n",
      "C:\\Users\\Maria Eduarda\\AppData\\Local\\Temp\\ipykernel_7064\\1942862282.py:4: SyntaxWarning: invalid escape sequence '\\{'\n",
      "  pib_industrial2021 = pd.read_csv('M:\\{estudos}\\Python\\Estudos-Python\\Análise de Dados\\Estudo dirigido - Economia regional\\pib estadual industrial 2021.csv', sep=';')\n",
      "C:\\Users\\Maria Eduarda\\AppData\\Local\\Temp\\ipykernel_7064\\1942862282.py:5: SyntaxWarning: invalid escape sequence '\\{'\n",
      "  pop_empregados = pd.read_csv('M:\\{estudos}\\Python\\Estudos-Python\\Análise de Dados/Estudo dirigido - Economia regional/populacao empregada (2012-2019).csv', sep=';')\n"
     ]
    }
   ],
   "source": [
    "pop_residente_regiao = pd.read_csv('M:\\{estudos}\\Python\\Estudos-Python\\Análise de Dados\\Estudo dirigido - Economia regional\\populacao residente por regiao (1996-2021).csv', sep=';')\n",
    "pop_residente_estado = pd.read_csv('M:\\{estudos}\\Python\\Estudos-Python\\Análise de Dados\\Estudo dirigido - Economia regional\\populacao residente por estado (1999-2019).csv', sep=';')\n",
    "pib_per_capita = pd.read_csv('M:\\{estudos}\\Python\\Estudos-Python\\Análise de Dados\\Estudo dirigido - Economia regional\\pib estadual per capita (1996-2021).csv', sep=';')\n",
    "pib_industrial2021 = pd.read_csv('M:\\{estudos}\\Python\\Estudos-Python\\Análise de Dados\\Estudo dirigido - Economia regional\\pib estadual industrial 2021.csv', sep=';')\n",
    "pop_empregados = pd.read_csv('M:\\{estudos}\\Python\\Estudos-Python\\Análise de Dados/Estudo dirigido - Economia regional/populacao empregada (2012-2019).csv', sep=';')\n",
    "\n"
   ]
  },
  {
   "cell_type": "markdown",
   "id": "7b87b995",
   "metadata": {},
   "source": [
    "### Questões propostas"
   ]
  },
  {
   "cell_type": "markdown",
   "id": "52cd07e7",
   "metadata": {},
   "source": [
    "#### 1. Em quais estados brasileiros estão concentrados o emprego? Comparando com os EUA, a concentração do emprego é maior ou menor (dados disponíveis na SIDRA-IBGE RAIS e na PNAD)"
   ]
  },
  {
   "cell_type": "markdown",
   "id": "8b3f37f7",
   "metadata": {},
   "source": [
    "\n",
    "4. Faça um gráfico do PIB per capita das 5 macro regiões brasileiras (Norte, Nordeste, Sul, Sudeste e Centro Oeste) entre 1996 a 2021. Identifique se existiu redução da desigualdade."
   ]
  },
  {
   "cell_type": "markdown",
   "id": "9c7ad1da",
   "metadata": {},
   "source": [
    "5. Faça um mapa do Brasil para os itens abaixo e compare os resultados:\n",
    "- taxas de desemprego\n",
    "- PIB industrial per capita\n"
   ]
  },
  {
   "cell_type": "markdown",
   "id": "f40cdb20",
   "metadata": {},
   "source": [
    "\n",
    "6. Faça um mapa do Brasil para, para os itens abaixo e compare os resultados:\n",
    "- Índice de Gini\n",
    "- renda per capita"
   ]
  },
  {
   "cell_type": "code",
   "execution_count": 68,
   "id": "5905010d",
   "metadata": {},
   "outputs": [
    {
     "data": {
      "text/plain": [
       "Index(['estado', 'Habitualmente recebido em todos os trabalhos',\n",
       "       'Efetivamente recebido em todos os trabalhos', '2018'],\n",
       "      dtype='object')"
      ]
     },
     "execution_count": 68,
     "metadata": {},
     "output_type": "execute_result"
    }
   ],
   "source": [
    "pop_empregada2018.columns"
   ]
  },
  {
   "cell_type": "code",
   "execution_count": 69,
   "id": "327400a0",
   "metadata": {},
   "outputs": [],
   "source": [
    "pop_empregada_long = pop_empregados.melt(id_vars='estado', var_name='ano', value_name='pop_empregada')\n",
    "pop_residente_long = pop_residente_estado.melt(id_vars='estado', var_name='ano', value_name='pop_residente')\n",
    "\n",
    "# Limpar e converter tipos de dados\n",
    "pop_empregada_long['ano'] = pop_empregada_long['ano'].astype(int)\n",
    "pop_empregada_long['pop_empregada'] = pop_empregada_long['pop_empregada'].astype(str)\n",
    "pop_empregada_long['pop_empregada'] = pop_empregada_long['pop_empregada'].str.replace(',', '.').astype(float)\n",
    "pop_empregada_long['pop_empregada'] *= 1000\n",
    "\n",
    "pop_residente_long['ano'] = pop_residente_long['ano'].astype(int)\n",
    "pop_residente_long['pop_residente'] = pop_residente_long['pop_residente'].astype(str)\n",
    "pop_residente_long['pop_residente'] = (\n",
    "    pop_residente_long['pop_residente']\n",
    "    .str.replace('.', '', regex=False)   # Remove separador de milhar\n",
    "    .str.replace(',', '.', regex=False)  # Troca vírgula decimal por ponto\n",
    "    .astype(float)\n",
    ")"
   ]
  },
  {
   "cell_type": "code",
   "execution_count": 70,
   "id": "0372ecb3",
   "metadata": {},
   "outputs": [
    {
     "name": "stdout",
     "output_type": "stream",
     "text": [
      "             estado  taxa_emprego  concentracao_emprego  pop_empregada  pop_residente\n",
      "          São Paulo      0.484684             24.364720     22072000.0     45538936.0\n",
      "       Minas Gerais      0.462771             10.748427      9737000.0     21040662.0\n",
      "     Rio de Janeiro      0.438463              8.305552      7524000.0     17159960.0\n",
      "              Bahia      0.380892              6.228060      5642000.0     14812617.0\n",
      "             Paraná      0.481455              6.031571      5464000.0     11348937.0\n",
      "  Rio Grande do Sul      0.475656              5.948780      5389000.0     11329605.0\n",
      "     Santa Catarina      0.507668              3.965118      3592000.0      7075494.0\n",
      "         Pernambuco      0.371935              3.898885      3532000.0      9496294.0\n",
      "              Ceará      0.386970              3.876808      3512000.0      9075649.0\n",
      "              Goiás      0.478821              3.658240      3314000.0      6921161.0\n",
      "               Pará      0.374934              3.523568      3192000.0      8513497.0\n",
      "           Maranhão      0.308455              2.395408      2170000.0      7035055.0\n",
      "     Espírito Santo      0.458414              2.010156      1821000.0      3972388.0\n",
      "        Mato Grosso      0.459617              1.746330      1582000.0      3441998.0\n",
      "            Paraíba      0.368573              1.626007      1473000.0      3996496.0\n",
      "           Amazonas      0.353624              1.592891      1443000.0      4080611.0\n",
      "   Distrito Federal      0.479712              1.575229      1427000.0      2974703.0\n",
      " Mato Grosso do Sul      0.473795              1.437245      1302000.0      2748023.0\n",
      "Rio Grande do Norte      0.368496              1.415167      1282000.0      3479010.0\n",
      "              Piauí      0.353496              1.273871      1154000.0      3264531.0\n",
      "            Alagoas      0.294027              1.078485       977000.0      3322820.0\n",
      "            Sergipe      0.362550              0.911800       826000.0      2278308.0\n",
      "           Rondônia      0.421600              0.817971       741000.0      1757589.0\n",
      "          Tocantins      0.399298              0.685506       621000.0      1555229.0\n",
      "               Acre      0.348570              0.334474       303000.0       869265.0\n",
      "              Amapá      0.341172              0.312397       283000.0       829494.0\n",
      "            Roraima      0.372896              0.237333       215000.0       576568.0\n"
     ]
    }
   ],
   "source": [
    "# Juntar os dois DataFrames por estado e ano\n",
    "df_emprego = pd.merge(pop_empregada_long, pop_residente_long, on=['estado', 'ano'])\n",
    "\n",
    "# Taxa de emprego por estado\n",
    "df_emprego['taxa_emprego'] = df_emprego['pop_empregada'] / df_emprego['pop_residente']\n",
    "\n",
    "# Concentração do emprego por estado (em % do total nacional)\n",
    "total_emprego_por_ano = df_emprego.groupby('ano')['pop_empregada'].sum().reset_index(name='total_empregada')\n",
    "df_emprego = df_emprego.merge(total_emprego_por_ano, on='ano')\n",
    "df_emprego['concentracao_emprego'] = (df_emprego['pop_empregada'] / df_emprego['total_empregada']) * 100\n",
    "\n",
    "df_2018 = df_emprego[df_emprego['ano'] == 2018].sort_values(by='concentracao_emprego', ascending=False)\n",
    "\n",
    "# Estados com maior concentração de emprego\n",
    "print(df_2018[['estado',  'taxa_emprego', 'concentracao_emprego', 'pop_empregada', 'pop_residente']].to_string(index=False))\n"
   ]
  },
  {
   "cell_type": "markdown",
   "id": "dd81fb7d",
   "metadata": {},
   "source": [
    "##### Os 5 estados brasileiros com maior concentração em 2018"
   ]
  },
  {
   "cell_type": "code",
   "execution_count": 71,
   "id": "9f046eac",
   "metadata": {},
   "outputs": [
    {
     "name": "stdout",
     "output_type": "stream",
     "text": [
      "╒══════════════════╤════════════════╕\n",
      "│ estado           │ taxa_emprego   │\n",
      "╞══════════════════╪════════════════╡\n",
      "│ Santa Catarina   │ 50.77%         │\n",
      "├──────────────────┼────────────────┤\n",
      "│ São Paulo        │ 48.47%         │\n",
      "├──────────────────┼────────────────┤\n",
      "│ Paraná           │ 48.15%         │\n",
      "├──────────────────┼────────────────┤\n",
      "│ Distrito Federal │ 47.97%         │\n",
      "├──────────────────┼────────────────┤\n",
      "│ Goiás            │ 47.88%         │\n",
      "╘══════════════════╧════════════════╛\n"
     ]
    }
   ],
   "source": [
    "top_5 = df_2018[['estado', 'taxa_emprego']].copy()\n",
    "top_5['taxa_emprego'] = (top_5['taxa_emprego'] * 100).round(2).astype(str) + '%' # transforma em porcentagem\n",
    "top_5 = top_5.sort_values(by='taxa_emprego', ascending=False).head(5)\n",
    "\n",
    "print(tabulate(top_5, headers='keys', tablefmt='fancy_grid', showindex=False))\n"
   ]
  },
  {
   "cell_type": "markdown",
   "id": "22669589",
   "metadata": {},
   "source": [
    "De acordo com o Bareau of Labor Statistics os  5 Estados dos EUA por Taxa de Emprego-População em 2018\n",
    "| Estado       | Taxa de Emprego-População (%) |                                                                    |\n",
    "| ------------ | ----------------------------- | ------------------------------------------------------------------ |\n",
    "| Minnesota    | 67,8%                         |                                                                    |\n",
    "| North Dakota | 67,7%                         |                                                                    |\n",
    "| Nebraska     | 67,3%                         |                                                                    |\n",
    "| Colorado     | 66,9%                         |                                                                    |\n",
    "| Iowa         | 66,7%                         | |\n",
    "\n",
    "\n",
    "\n",
    "\n",
    "\n",
    "Semelhanças: Tanto nos EUA quanto no Brasil, os estados com maior taxa de emprego-população estão acima de 63%, indicando uma concentração significativa de empregos.\n",
    "\n",
    "Diferenças: Nos EUA, os estados líderes superam 66%, enquanto no Brasil, apenas Santa Catarina atinge uma taxa semelhante.\n"
   ]
  },
  {
   "cell_type": "markdown",
   "id": "bb0949f8",
   "metadata": {},
   "source": [
    "#### 2. Qual a percentagem da população brasileira, em 2018 vivia nos estados que detêm a maior parcela do emprego? Fazer um gráfico mostrando como vem sendo esta evolução de 1999 ate 2019."
   ]
  },
  {
   "cell_type": "code",
   "execution_count": 72,
   "id": "c57920fb",
   "metadata": {},
   "outputs": [
    {
     "name": "stdout",
     "output_type": "stream",
     "text": [
      "52.71% da população brasileira vivia nos 5 estados com maior concentração de emprego em 2018.\n"
     ]
    }
   ],
   "source": [
    "top_emprego = df_2018.sort_values(by='concentracao_emprego', ascending=False).head(5)\n",
    "pop_top5 = top_emprego['pop_residente'].sum()\n",
    "pop_brasil = df_2018['pop_residente'].sum()\n",
    "percentual_pop_nos_top5 = (pop_top5 / pop_brasil) * 100\n",
    "print(f\"{percentual_pop_nos_top5:.2f}% da população brasileira vivia nos 5 estados com maior concentração de emprego em 2018.\")\n"
   ]
  },
  {
   "cell_type": "code",
   "execution_count": 73,
   "id": "76ba44ce",
   "metadata": {},
   "outputs": [
    {
     "data": {
      "text/html": [
       "<div>\n",
       "<style scoped>\n",
       "    .dataframe tbody tr th:only-of-type {\n",
       "        vertical-align: middle;\n",
       "    }\n",
       "\n",
       "    .dataframe tbody tr th {\n",
       "        vertical-align: top;\n",
       "    }\n",
       "\n",
       "    .dataframe thead th {\n",
       "        text-align: right;\n",
       "    }\n",
       "</style>\n",
       "<table border=\"1\" class=\"dataframe\">\n",
       "  <thead>\n",
       "    <tr style=\"text-align: right;\">\n",
       "      <th></th>\n",
       "      <th>estado</th>\n",
       "      <th>1999</th>\n",
       "      <th>2000</th>\n",
       "      <th>2001</th>\n",
       "      <th>2002</th>\n",
       "      <th>2003</th>\n",
       "      <th>2004</th>\n",
       "      <th>2005</th>\n",
       "      <th>2006</th>\n",
       "      <th>2007</th>\n",
       "      <th>...</th>\n",
       "      <th>2009</th>\n",
       "      <th>2011</th>\n",
       "      <th>2012</th>\n",
       "      <th>2013</th>\n",
       "      <th>2014</th>\n",
       "      <th>2015</th>\n",
       "      <th>2016</th>\n",
       "      <th>2017</th>\n",
       "      <th>2018</th>\n",
       "      <th>2019</th>\n",
       "    </tr>\n",
       "  </thead>\n",
       "  <tbody>\n",
       "    <tr>\n",
       "      <th>0</th>\n",
       "      <td>Acre</td>\n",
       "      <td>527.937</td>\n",
       "      <td>541.873</td>\n",
       "      <td>574.355</td>\n",
       "      <td>586.942</td>\n",
       "      <td>600.595</td>\n",
       "      <td>630.328</td>\n",
       "      <td>669.736</td>\n",
       "      <td>686.652</td>\n",
       "      <td>688.892</td>\n",
       "      <td>...</td>\n",
       "      <td>691.132</td>\n",
       "      <td>746.386</td>\n",
       "      <td>758.786</td>\n",
       "      <td>776.463</td>\n",
       "      <td>790.101</td>\n",
       "      <td>803.513</td>\n",
       "      <td>816.687</td>\n",
       "      <td>829.619</td>\n",
       "      <td>869.265</td>\n",
       "      <td>881.935</td>\n",
       "    </tr>\n",
       "    <tr>\n",
       "      <th>1</th>\n",
       "      <td>Alagoas</td>\n",
       "      <td>2.713.203</td>\n",
       "      <td>2.738.378</td>\n",
       "      <td>2.856.629</td>\n",
       "      <td>2.887.535</td>\n",
       "      <td>2.917.664</td>\n",
       "      <td>2.980.910</td>\n",
       "      <td>3.015.912</td>\n",
       "      <td>3.050.652</td>\n",
       "      <td>3.103.380</td>\n",
       "      <td>...</td>\n",
       "      <td>3.156.108</td>\n",
       "      <td>3.143.384</td>\n",
       "      <td>3.165.472</td>\n",
       "      <td>3.300.935</td>\n",
       "      <td>3.321.730</td>\n",
       "      <td>3.340.932</td>\n",
       "      <td>3.358.963</td>\n",
       "      <td>3.375.823</td>\n",
       "      <td>3.322.820</td>\n",
       "      <td>3.337.357</td>\n",
       "    </tr>\n",
       "    <tr>\n",
       "      <th>2</th>\n",
       "      <td>Amazonas</td>\n",
       "      <td>2.580.860</td>\n",
       "      <td>2.641.251</td>\n",
       "      <td>2.900.240</td>\n",
       "      <td>2.961.801</td>\n",
       "      <td>3.031.068</td>\n",
       "      <td>3.138.726</td>\n",
       "      <td>3.232.330</td>\n",
       "      <td>3.311.026</td>\n",
       "      <td>3.352.198</td>\n",
       "      <td>...</td>\n",
       "      <td>3.393.369</td>\n",
       "      <td>3.538.387</td>\n",
       "      <td>3.590.985</td>\n",
       "      <td>3.807.921</td>\n",
       "      <td>3.873.743</td>\n",
       "      <td>3.938.336</td>\n",
       "      <td>4.001.667</td>\n",
       "      <td>4.063.614</td>\n",
       "      <td>4.080.611</td>\n",
       "      <td>4.144.597</td>\n",
       "    </tr>\n",
       "    <tr>\n",
       "      <th>3</th>\n",
       "      <td>Amapá</td>\n",
       "      <td>439.781</td>\n",
       "      <td>458.796</td>\n",
       "      <td>498.735</td>\n",
       "      <td>516.511</td>\n",
       "      <td>534.835</td>\n",
       "      <td>547.400</td>\n",
       "      <td>594.587</td>\n",
       "      <td>615.715</td>\n",
       "      <td>621.162</td>\n",
       "      <td>...</td>\n",
       "      <td>626.609</td>\n",
       "      <td>684.309</td>\n",
       "      <td>698.602</td>\n",
       "      <td>734.996</td>\n",
       "      <td>750.912</td>\n",
       "      <td>766.679</td>\n",
       "      <td>782.295</td>\n",
       "      <td>797.722</td>\n",
       "      <td>829.494</td>\n",
       "      <td>845.731</td>\n",
       "    </tr>\n",
       "    <tr>\n",
       "      <th>4</th>\n",
       "      <td>Bahia</td>\n",
       "      <td>12.993.011</td>\n",
       "      <td>13.135.262</td>\n",
       "      <td>13.214.114</td>\n",
       "      <td>13.323.212</td>\n",
       "      <td>13.435.612</td>\n",
       "      <td>13.682.074</td>\n",
       "      <td>13.815.334</td>\n",
       "      <td>13.950.146</td>\n",
       "      <td>14.293.755</td>\n",
       "      <td>...</td>\n",
       "      <td>14.637.364</td>\n",
       "      <td>14.097.534</td>\n",
       "      <td>14.175.341</td>\n",
       "      <td>15.044.137</td>\n",
       "      <td>15.126.371</td>\n",
       "      <td>15.203.334</td>\n",
       "      <td>15.276.566</td>\n",
       "      <td>15.344.447</td>\n",
       "      <td>14.812.617</td>\n",
       "      <td>14.873.064</td>\n",
       "    </tr>\n",
       "  </tbody>\n",
       "</table>\n",
       "<p>5 rows × 21 columns</p>\n",
       "</div>"
      ],
      "text/plain": [
       "     estado        1999        2000        2001        2002        2003  \\\n",
       "0      Acre     527.937     541.873     574.355     586.942     600.595   \n",
       "1   Alagoas   2.713.203   2.738.378   2.856.629   2.887.535   2.917.664   \n",
       "2  Amazonas   2.580.860   2.641.251   2.900.240   2.961.801   3.031.068   \n",
       "3     Amapá     439.781     458.796     498.735     516.511     534.835   \n",
       "4     Bahia  12.993.011  13.135.262  13.214.114  13.323.212  13.435.612   \n",
       "\n",
       "         2004        2005        2006        2007  ...        2009  \\\n",
       "0     630.328     669.736     686.652     688.892  ...     691.132   \n",
       "1   2.980.910   3.015.912   3.050.652   3.103.380  ...   3.156.108   \n",
       "2   3.138.726   3.232.330   3.311.026   3.352.198  ...   3.393.369   \n",
       "3     547.400     594.587     615.715     621.162  ...     626.609   \n",
       "4  13.682.074  13.815.334  13.950.146  14.293.755  ...  14.637.364   \n",
       "\n",
       "         2011        2012        2013        2014        2015        2016  \\\n",
       "0     746.386     758.786     776.463     790.101     803.513     816.687   \n",
       "1   3.143.384   3.165.472   3.300.935   3.321.730   3.340.932   3.358.963   \n",
       "2   3.538.387   3.590.985   3.807.921   3.873.743   3.938.336   4.001.667   \n",
       "3     684.309     698.602     734.996     750.912     766.679     782.295   \n",
       "4  14.097.534  14.175.341  15.044.137  15.126.371  15.203.334  15.276.566   \n",
       "\n",
       "         2017        2018        2019  \n",
       "0     829.619     869.265     881.935  \n",
       "1   3.375.823   3.322.820   3.337.357  \n",
       "2   4.063.614   4.080.611   4.144.597  \n",
       "3     797.722     829.494     845.731  \n",
       "4  15.344.447  14.812.617  14.873.064  \n",
       "\n",
       "[5 rows x 21 columns]"
      ]
     },
     "execution_count": 73,
     "metadata": {},
     "output_type": "execute_result"
    }
   ],
   "source": [
    "pop_residente_estado.head()"
   ]
  },
  {
   "cell_type": "code",
   "execution_count": 74,
   "id": "7cc4b508",
   "metadata": {},
   "outputs": [
    {
     "name": "stderr",
     "output_type": "stream",
     "text": [
      "C:\\Users\\Maria Eduarda\\AppData\\Local\\Temp\\ipykernel_7064\\2951552551.py:12: SettingWithCopyWarning: \n",
      "A value is trying to be set on a copy of a slice from a DataFrame.\n",
      "Try using .loc[row_indexer,col_indexer] = value instead\n",
      "\n",
      "See the caveats in the documentation: https://pandas.pydata.org/pandas-docs/stable/user_guide/indexing.html#returning-a-view-versus-a-copy\n",
      "  df_top5[ano] = pd.to_numeric(df_top5[ano], errors='coerce')\n"
     ]
    },
    {
     "ename": "KeyError",
     "evalue": "'2010'",
     "output_type": "error",
     "traceback": [
      "\u001b[1;31m---------------------------------------------------------------------------\u001b[0m",
      "\u001b[1;31mKeyError\u001b[0m                                  Traceback (most recent call last)",
      "File \u001b[1;32mm:\\apps no sd\\Python\\Lib\\site-packages\\pandas\\core\\indexes\\base.py:3805\u001b[0m, in \u001b[0;36mIndex.get_loc\u001b[1;34m(self, key)\u001b[0m\n\u001b[0;32m   3804\u001b[0m \u001b[38;5;28;01mtry\u001b[39;00m:\n\u001b[1;32m-> 3805\u001b[0m     \u001b[38;5;28;01mreturn\u001b[39;00m \u001b[38;5;28;43mself\u001b[39;49m\u001b[38;5;241;43m.\u001b[39;49m\u001b[43m_engine\u001b[49m\u001b[38;5;241;43m.\u001b[39;49m\u001b[43mget_loc\u001b[49m\u001b[43m(\u001b[49m\u001b[43mcasted_key\u001b[49m\u001b[43m)\u001b[49m\n\u001b[0;32m   3806\u001b[0m \u001b[38;5;28;01mexcept\u001b[39;00m \u001b[38;5;167;01mKeyError\u001b[39;00m \u001b[38;5;28;01mas\u001b[39;00m err:\n",
      "File \u001b[1;32mindex.pyx:167\u001b[0m, in \u001b[0;36mpandas._libs.index.IndexEngine.get_loc\u001b[1;34m()\u001b[0m\n",
      "File \u001b[1;32mindex.pyx:196\u001b[0m, in \u001b[0;36mpandas._libs.index.IndexEngine.get_loc\u001b[1;34m()\u001b[0m\n",
      "File \u001b[1;32mpandas\\\\_libs\\\\hashtable_class_helper.pxi:7081\u001b[0m, in \u001b[0;36mpandas._libs.hashtable.PyObjectHashTable.get_item\u001b[1;34m()\u001b[0m\n",
      "File \u001b[1;32mpandas\\\\_libs\\\\hashtable_class_helper.pxi:7089\u001b[0m, in \u001b[0;36mpandas._libs.hashtable.PyObjectHashTable.get_item\u001b[1;34m()\u001b[0m\n",
      "\u001b[1;31mKeyError\u001b[0m: '2010'",
      "\nThe above exception was the direct cause of the following exception:\n",
      "\u001b[1;31mKeyError\u001b[0m                                  Traceback (most recent call last)",
      "Cell \u001b[1;32mIn[74], line 11\u001b[0m\n\u001b[0;32m      9\u001b[0m \u001b[38;5;66;03m# Converte para numérico só para garantir\u001b[39;00m\n\u001b[0;32m     10\u001b[0m \u001b[38;5;28;01mfor\u001b[39;00m ano \u001b[38;5;129;01min\u001b[39;00m anos:\n\u001b[1;32m---> 11\u001b[0m     pop_residente_estado[ano] \u001b[38;5;241m=\u001b[39m pd\u001b[38;5;241m.\u001b[39mto_numeric(\u001b[43mpop_residente_estado\u001b[49m\u001b[43m[\u001b[49m\u001b[43mano\u001b[49m\u001b[43m]\u001b[49m, errors\u001b[38;5;241m=\u001b[39m\u001b[38;5;124m'\u001b[39m\u001b[38;5;124mcoerce\u001b[39m\u001b[38;5;124m'\u001b[39m)\n\u001b[0;32m     12\u001b[0m     df_top5[ano] \u001b[38;5;241m=\u001b[39m pd\u001b[38;5;241m.\u001b[39mto_numeric(df_top5[ano], errors\u001b[38;5;241m=\u001b[39m\u001b[38;5;124m'\u001b[39m\u001b[38;5;124mcoerce\u001b[39m\u001b[38;5;124m'\u001b[39m)\n\u001b[0;32m     14\u001b[0m \u001b[38;5;66;03m# Soma a população dos 5 estados para cada ano\u001b[39;00m\n",
      "File \u001b[1;32mm:\\apps no sd\\Python\\Lib\\site-packages\\pandas\\core\\frame.py:4102\u001b[0m, in \u001b[0;36mDataFrame.__getitem__\u001b[1;34m(self, key)\u001b[0m\n\u001b[0;32m   4100\u001b[0m \u001b[38;5;28;01mif\u001b[39;00m \u001b[38;5;28mself\u001b[39m\u001b[38;5;241m.\u001b[39mcolumns\u001b[38;5;241m.\u001b[39mnlevels \u001b[38;5;241m>\u001b[39m \u001b[38;5;241m1\u001b[39m:\n\u001b[0;32m   4101\u001b[0m     \u001b[38;5;28;01mreturn\u001b[39;00m \u001b[38;5;28mself\u001b[39m\u001b[38;5;241m.\u001b[39m_getitem_multilevel(key)\n\u001b[1;32m-> 4102\u001b[0m indexer \u001b[38;5;241m=\u001b[39m \u001b[38;5;28;43mself\u001b[39;49m\u001b[38;5;241;43m.\u001b[39;49m\u001b[43mcolumns\u001b[49m\u001b[38;5;241;43m.\u001b[39;49m\u001b[43mget_loc\u001b[49m\u001b[43m(\u001b[49m\u001b[43mkey\u001b[49m\u001b[43m)\u001b[49m\n\u001b[0;32m   4103\u001b[0m \u001b[38;5;28;01mif\u001b[39;00m is_integer(indexer):\n\u001b[0;32m   4104\u001b[0m     indexer \u001b[38;5;241m=\u001b[39m [indexer]\n",
      "File \u001b[1;32mm:\\apps no sd\\Python\\Lib\\site-packages\\pandas\\core\\indexes\\base.py:3812\u001b[0m, in \u001b[0;36mIndex.get_loc\u001b[1;34m(self, key)\u001b[0m\n\u001b[0;32m   3807\u001b[0m     \u001b[38;5;28;01mif\u001b[39;00m \u001b[38;5;28misinstance\u001b[39m(casted_key, \u001b[38;5;28mslice\u001b[39m) \u001b[38;5;129;01mor\u001b[39;00m (\n\u001b[0;32m   3808\u001b[0m         \u001b[38;5;28misinstance\u001b[39m(casted_key, abc\u001b[38;5;241m.\u001b[39mIterable)\n\u001b[0;32m   3809\u001b[0m         \u001b[38;5;129;01mand\u001b[39;00m \u001b[38;5;28many\u001b[39m(\u001b[38;5;28misinstance\u001b[39m(x, \u001b[38;5;28mslice\u001b[39m) \u001b[38;5;28;01mfor\u001b[39;00m x \u001b[38;5;129;01min\u001b[39;00m casted_key)\n\u001b[0;32m   3810\u001b[0m     ):\n\u001b[0;32m   3811\u001b[0m         \u001b[38;5;28;01mraise\u001b[39;00m InvalidIndexError(key)\n\u001b[1;32m-> 3812\u001b[0m     \u001b[38;5;28;01mraise\u001b[39;00m \u001b[38;5;167;01mKeyError\u001b[39;00m(key) \u001b[38;5;28;01mfrom\u001b[39;00m \u001b[38;5;21;01merr\u001b[39;00m\n\u001b[0;32m   3813\u001b[0m \u001b[38;5;28;01mexcept\u001b[39;00m \u001b[38;5;167;01mTypeError\u001b[39;00m:\n\u001b[0;32m   3814\u001b[0m     \u001b[38;5;66;03m# If we have a listlike key, _check_indexing_error will raise\u001b[39;00m\n\u001b[0;32m   3815\u001b[0m     \u001b[38;5;66;03m#  InvalidIndexError. Otherwise we fall through and re-raise\u001b[39;00m\n\u001b[0;32m   3816\u001b[0m     \u001b[38;5;66;03m#  the TypeError.\u001b[39;00m\n\u001b[0;32m   3817\u001b[0m     \u001b[38;5;28mself\u001b[39m\u001b[38;5;241m.\u001b[39m_check_indexing_error(key)\n",
      "\u001b[1;31mKeyError\u001b[0m: '2010'"
     ]
    }
   ],
   "source": [
    "top5_estados = top_emprego['estado'].tolist()\n",
    "\n",
    "# Filtra população apenas desses estados no dataframe de população por estado\n",
    "df_top5 = pop_residente_estado[pop_residente_estado['estado'].isin(top5_estados)]\n",
    "\n",
    "# Lista dos anos como string, para usar como colunas\n",
    "anos = [str(ano) for ano in range(1999, 2020)]\n",
    "\n",
    "# Converte para numérico só para garantir\n",
    "for ano in anos:\n",
    "    pop_residente_estado[ano] = pd.to_numeric(pop_residente_estado[ano], errors='coerce')\n",
    "    df_top5[ano] = pd.to_numeric(df_top5[ano], errors='coerce')\n",
    "\n",
    "# Soma a população dos 5 estados para cada ano\n",
    "pop_top5_ano = df_top5[anos].sum()\n",
    "\n",
    "# Soma a população total (todos os estados) para cada ano\n",
    "pop_total_ano = pop_residente_estado[anos].sum()\n",
    "\n",
    "# Calcula o percentual de população nos top 5 estados em cada ano\n",
    "percentual_top5 = (pop_top5_ano / pop_total_ano) * 100\n"
   ]
  },
  {
   "cell_type": "markdown",
   "id": "60a09d90",
   "metadata": {},
   "source": [
    "\n",
    "#### 3. Quais e quantos são os estados brasileiros cujo PIB per capita é inferior a 75% do PIB nacional em 2019? Qual a percentagem da população brasileira vive nestes estados em 2019?"
   ]
  },
  {
   "cell_type": "code",
   "execution_count": null,
   "id": "b67cdbf4",
   "metadata": {},
   "outputs": [],
   "source": [
    "ano = '2019'\n",
    "\n",
    "# Converter as colunas para numérico (tirar vírgulas e transformar em float)\n",
    "def converter_para_numero(df, col_ano):\n",
    "    # Substituir vírgula por ponto e converter\n",
    "    df[col_ano] = df[col_ano].astype(str).str.replace(',', '.').astype(float)\n",
    "    return df\n",
    "\n",
    "pib_per_capita = converter_para_numero(pib_per_capita, ano)\n",
    "pop_residente_estado = converter_para_numero(pop_residente_estado, ano)\n",
    "\n",
    "# Calcular PIB per capita nacional (média ponderada pela população?)\n",
    "# Como você só tem PIB per capita por estado, uma forma simples: média ponderada pelo população dos estados\n",
    "\n",
    "# Para isso, precisamos dos dados de população para 2019\n",
    "pop_residente_estado[ano] = pd.to_numeric(pop_residente_estado[ano], errors='coerce')\n",
    "\n",
    "# Unir PIB per capita e população por estado para 2019\n",
    "df_pib_pop = pd.merge(\n",
    "    pib_per_capita[['estado', ano]],\n",
    "    pop_residente_estado[['estado', ano]],\n",
    "    on='estado',\n",
    "    suffixes=('_pib', '_pop')\n",
    ")\n",
    "\n",
    "# Calcular o PIB total por estado = PIB per capita * população\n",
    "df_pib_pop['pib_total_estado'] = df_pib_pop[f'{ano}_pib'] * df_pib_pop[f'{ano}_pop']\n",
    "\n",
    "# PIB total nacional\n",
    "pib_total_nacional = df_pib_pop['pib_total_estado'].sum()\n",
    "\n",
    "# População total nacional\n",
    "pop_total_nacional = df_pib_pop[f'{ano}_pop'].sum()\n",
    "\n",
    "# PIB per capita nacional ponderado pela população\n",
    "pib_per_capita_nacional = pib_total_nacional / pop_total_nacional\n",
    "\n",
    "print(f\"PIB per capita nacional em {ano}: R$ {pib_per_capita_nacional:.2f}\")"
   ]
  },
  {
   "cell_type": "code",
   "execution_count": null,
   "id": "976e4484",
   "metadata": {},
   "outputs": [],
   "source": [
    "# Filtrar estados com PIB per capita inferior a 75% do PIB nacional\n",
    "limite = 0.75 * pib_per_capita_nacional\n",
    "estados_baixo_pib = df_pib_pop[df_pib_pop[f'{ano}_pib'] < limite]\n",
    "\n",
    "# Quantidade de estados\n",
    "quantidade_estados = estados_baixo_pib.shape[0]\n",
    "\n",
    "# Soma da população desses estados\n",
    "pop_estados_baixo_pib = estados_baixo_pib[f'{ano}_pop'].sum()\n",
    "\n",
    "# Percentual da população nacional que vive nesses estados\n",
    "percentual_pop = (pop_estados_baixo_pib / pop_total_nacional) * 100\n",
    "\n",
    "print(f\"\\nEstados com PIB per capita inferior a 75% do PIB nacional em {ano}:\")\n",
    "print(estados_baixo_pib['estado'].to_list())\n",
    "\n",
    "print(f\"\\nQuantidade de estados: {quantidade_estados}\")\n",
    "print(f\"Percentual da população brasileira vivendo nesses estados em {ano}: {percentual_pop:.2f}%\")"
   ]
  },
  {
   "cell_type": "markdown",
   "id": "42432bb8",
   "metadata": {},
   "source": [
    "#### 4. Faça um gráfico do PIB per capita das 5 macro regiões brasileiras (Norte, Nordeste, Sul, Sudeste e Centro Oeste) entre 1996 a 2021. Identifique se existiu redução da desigualdade."
   ]
  },
  {
   "cell_type": "code",
   "execution_count": null,
   "id": "45727255",
   "metadata": {},
   "outputs": [],
   "source": [
    "Faça um gráfico do PIB per capita das 5 macro regiões brasileiras (Norte, Nordeste, Sul, Sudeste e Centro Oeste) entre 1996 a 2021. Identifique se existiu redução da desigualdade."
   ]
  }
 ],
 "metadata": {
  "kernelspec": {
   "display_name": "Python 3",
   "language": "python",
   "name": "python3"
  },
  "language_info": {
   "codemirror_mode": {
    "name": "ipython",
    "version": 3
   },
   "file_extension": ".py",
   "mimetype": "text/x-python",
   "name": "python",
   "nbconvert_exporter": "python",
   "pygments_lexer": "ipython3",
   "version": "3.13.0"
  }
 },
 "nbformat": 4,
 "nbformat_minor": 5
}

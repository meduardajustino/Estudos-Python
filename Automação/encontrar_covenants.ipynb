{
 "cells": [
  {
   "cell_type": "markdown",
   "metadata": {},
   "source": [
    "### Conferir se as notas explicativas coletadas podem ter covenants\n",
    "A princípio iremos salvar apenas as que possam ter informações sobre covenants e no futuro filtrar as que realmente em claúsulas."
   ]
  },
  {
   "cell_type": "code",
   "execution_count": null,
   "metadata": {},
   "outputs": [],
   "source": [
    "# Bibliotecas utilizadas, importante instalar com pip install\n",
    "import PyPDF2\n",
    "from PyPDF2 import PdfReader\n",
    "import re\n",
    "import os\n",
    "import shutil\n",
    "from concurrent.futures import ThreadPoolExecutor # permite executar várias tarefas simultaneamente em threads separada"
   ]
  },
  {
   "cell_type": "code",
   "execution_count": null,
   "metadata": {},
   "outputs": [],
   "source": [
    "pasta_mega = r\"M:\\Maria Eduarda\\Downloads\\Mega\"\n",
    "pasta_empresas = os.walk(pasta_megacontador_covenants = 0)\n",
    "diretorio = []\n",
    "contador_covenants = 0\n",
    "\n",
    "# percorre as subpastas e arquivos na pasta Mega\n",
    "for caminho, subpastas, arquivos in pasta_empresas:\n",
    "    print(caminho, nome)\n",
    "    diretorio.append(os.path.join(caminho, nome)) #concatena e adiciona a lista"
   ]
  },
  {
   "cell_type": "code",
   "execution_count": null,
   "metadata": {},
   "outputs": [],
   "source": [
    "# percorre a lista de arquivos e analisa o conteúdo das notas explicativas\n",
    "for nota_explicativa in diretorio:\n",
    "    if nota_explicativa.endswith('.pdf')\n",
    "        with open(nota_explicativa, 'rb') as file:\n",
    "            pdf = PdfReader(file)\n",
    "            for page in pdf.pages:\n",
    "                content = page.extract_text()\n",
    "                if any(term in content.lower() for term in ['covenants', 'covenant', \"cláusulas contratuais\", \"cláusulas restritivas\"]):\n",
    "                    contador_covenants += 1 \n",
    "                    # Salva o arquivo na pasta de empresas com covenants\n",
    "                    nome_empresa = nota_explicativa.split(\"\\\\\")[-2]  # Supondo que o nome da empresa esteja na subpasta\n",
    "                    ano_documento = nota_explicativa.split(\"\\\\\")[-1].split('_')[0]  # Supondo que o ano esteja no nome do arquivo\n",
    "                    nova_pasta = rf\"M:\\Maria Eduarda\\Downloads\\Empresas Com Covenants\\{nome_empresa}\\{ano_documento}\"\n",
    "                    os.makedirs(nova_pasta, exist_ok=True)  # Cria a pasta, se não existir\n",
    "                    \n",
    "                    novo_caminho = os.path.join(nova_pasta, os.path.basename(nota_explicativa))\n",
    "                    shutil.copy(nota_explicativa, novo_caminho)  # Move o arquivo para a nova pasta\n",
    "\n",
    "                    print(f\"Arquivo {os.path.basename(nota_explicativa)} movido para {novo_caminho}\")\n",
    "\n",
    "print(f\"Total de notas explicativas com covenants: {contador_covenants}\")\n",
    "                    "
   ]
  },
  {
   "cell_type": "code",
   "execution_count": null,
   "metadata": {},
   "outputs": [],
   "source": [
    "pasta_mega = r\"M:\\Maria Eduarda\\Downloads\\Mega\"\n",
    "diretorio = []\n",
    "contador_covenants = 0\n",
    "\n",
    "def processa_pdf(nota_explicativa):\n",
    "    global contador_covenants  # o 'global' permite modificar a variável global\n",
    "    if nota_explicativa.endswith('.pdf'):\n",
    "        with open(nota_explicativa, 'rb') as file:\n",
    "            pdf = PdfReader(file)\n",
    "            for page in pdf.pages:\n",
    "                content = page.extract_text()\n",
    "                if any(term in content.lower() for term in ['covenants', 'covenant', \"cláusulas contratuais\", \"cláusulas restritivas\"]):\n",
    "                    contador_covenants += 1\n",
    "                    \n",
    "                    # salva o arquivo na pasta de empresas com covenants\n",
    "                    nome_empresa = nota_explicativa.split(\"\\\\\")[-2]\n",
    "                    ano_documento = nota_explicativa.split(\"\\\\\")[-1].split('_')[0]\n",
    "                    \n",
    "                    #pasta para armazenar arquivos com covenants\n",
    "                    nova_pasta = rf\"M:\\Maria Eduarda\\Downloads\\Empresas Com Covenants\\{nome_empresa}\\{ano_documento}\"\n",
    "                    os.makedirs(nova_pasta, exist_ok=True)\n",
    "                    \n",
    "                    novo_caminho = os.path.join(nova_pasta, os.path.basename(nota_explicativa))\n",
    "                    shutil.copy(nota_explicativa, novo_caminho)\n",
    "                    \n",
    "                    print(f\"Arquivo {os.path.basename(nota_explicativa)} movido para {novo_caminho}\")\n",
    "                    break \n",
    "\n",
    "# percorre as subpastas e arquivos na pasta Mega\n",
    "for caminho, subpastas, arquivos in os.walk(pasta_mega):\n",
    "    for nome in arquivos:\n",
    "        diretorio.append(os.path.join(caminho, nome))  # concatena caminho e arquivo, adicionando à lista\n",
    "\n",
    "# usando ThreadPoolExecutor para processar PDFs em paralelo\n",
    "with ThreadPoolExecutor() as executor:\n",
    "    executor.map(processa_pdf, diretorio)\n",
    "\n",
    "# Exibe o total de arquivos que continham covenants\n",
    "print(f\"Total de notas explicativas com covenants: {contador_covenants}\")\n"
   ]
  }
 ],
 "metadata": {
  "kernelspec": {
   "display_name": "Python 3",
   "language": "python",
   "name": "python3"
  },
  "language_info": {
   "codemirror_mode": {
    "name": "ipython",
    "version": 3
   },
   "file_extension": ".py",
   "mimetype": "text/x-python",
   "name": "python",
   "nbconvert_exporter": "python",
   "pygments_lexer": "ipython3",
   "version": "3.13.0"
  }
 },
 "nbformat": 4,
 "nbformat_minor": 2
}

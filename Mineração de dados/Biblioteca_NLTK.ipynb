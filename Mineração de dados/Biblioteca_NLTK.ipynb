{
 "cells": [
  {
   "cell_type": "markdown",
   "metadata": {},
   "source": [
    "### Aplicações do NLTK\n",
    "- pré-processamento de texto\n",
    "- verificação gramatical\n",
    "- classificação de textos\n",
    "- análise de sentimentos\n",
    "- sistemas de chatbot\n",
    "- tradução automática"
   ]
  },
  {
   "cell_type": "code",
   "execution_count": 32,
   "metadata": {},
   "outputs": [
    {
     "name": "stderr",
     "output_type": "stream",
     "text": [
      "[nltk_data] Downloading package punkt to C:\\Users\\Maria\n",
      "[nltk_data]     Eduarda\\AppData\\Roaming\\nltk_data...\n",
      "[nltk_data]   Package punkt is already up-to-date!\n",
      "[nltk_data] Downloading package stopwords to C:\\Users\\Maria\n",
      "[nltk_data]     Eduarda\\AppData\\Roaming\\nltk_data...\n",
      "[nltk_data]   Package stopwords is already up-to-date!\n"
     ]
    }
   ],
   "source": [
    "import nltk\n",
    "nltk.download('punkt')\n",
    "nltk.download('stopwords')\n",
    "from nltk.tokenize import word_tokenize\n",
    "from nltk.tokenize import sent_tokenize\n",
    "from nltk.corpus import stopwords\n"
   ]
  },
  {
   "cell_type": "code",
   "execution_count": 33,
   "metadata": {},
   "outputs": [
    {
     "data": {
      "text/plain": [
       "['What',\n",
       " 'are',\n",
       " 'we',\n",
       " 'fighting',\n",
       " 'for?',\n",
       " 'Seems',\n",
       " 'like',\n",
       " 'we',\n",
       " 'do',\n",
       " 'it',\n",
       " 'just',\n",
       " 'for',\n",
       " 'fun.',\n",
       " 'In',\n",
       " 'this,',\n",
       " 'this',\n",
       " 'stupid',\n",
       " 'war.',\n",
       " 'We',\n",
       " 'play',\n",
       " 'hard',\n",
       " 'with',\n",
       " 'our',\n",
       " 'plastic',\n",
       " 'guns.']"
      ]
     },
     "execution_count": 33,
     "metadata": {},
     "output_type": "execute_result"
    }
   ],
   "source": [
    "texto = \"What are we fighting for? Seems like we do it just for fun. In this, this stupid war. We play hard with our plastic guns.\"\n",
    "tokens = texto.split() # tokens = word_tokenize(texto)\n",
    "tokens"
   ]
  },
  {
   "cell_type": "code",
   "execution_count": 34,
   "metadata": {},
   "outputs": [
    {
     "name": "stdout",
     "output_type": "stream",
     "text": [
      "['fighting', 'for?', 'Seems', 'like', 'fun.', 'this,', 'stupid', 'war.', 'play', 'hard', 'plastic', 'guns.']\n",
      "['What', 'are', 'we', 'we', 'do', 'it', 'just', 'for', 'In', 'this', 'We', 'with', 'our']\n"
     ]
    }
   ],
   "source": [
    "stopwords_en = set(stopwords.words('english'))\n",
    "filteres_tokens = [word for word in tokens if word.casefold() not in stopwords_en]\n",
    "stopwords_tokens = [word for word in tokens if word.casefold() in stopwords_en]\n",
    "print(filteres_tokens)\n",
    "print(stopwords_tokens)"
   ]
  },
  {
   "cell_type": "markdown",
   "metadata": {},
   "source": [
    "## Análise de sentimentos\n",
    "### Polaridade:\n",
    "Definição: A polaridade indica o quão positivo ou negativo é o sentimento expresso em um texto.\n",
    "Intervalo: Varia de -1 (muito negativo) a 1 (muito positivo).\n",
    "\n",
    "### Subjetividade:\n",
    "Definição: A subjetividade mede o quanto o texto é subjetivo ou objetivo.\n",
    "Intervalo: Varia de 0 (muito objetivo) a 1 (muito subjetivo)."
   ]
  },
  {
   "cell_type": "code",
   "execution_count": 36,
   "metadata": {},
   "outputs": [
    {
     "name": "stdout",
     "output_type": "stream",
     "text": [
      "A análise de sentimentos retornou: Sentiment(polarity=-0.2638888888888889, subjectivity=0.5805555555555556)\n"
     ]
    },
    {
     "name": "stderr",
     "output_type": "stream",
     "text": [
      "[nltk_data] Downloading package vader_lexicon to C:\\Users\\Maria\n",
      "[nltk_data]     Eduarda\\AppData\\Roaming\\nltk_data...\n",
      "[nltk_data]   Package vader_lexicon is already up-to-date!\n"
     ]
    }
   ],
   "source": [
    "# Análise de sentimentos\n",
    "from nltk.sentiment import SentimentIntensityAnalyzer\n",
    "nltk.download('vader_lexicon')\n",
    "from textblob import TextBlob\n",
    "\n",
    "\n",
    "def analyze_sentiment(text):\n",
    "    blob = TextBlob(text)\n",
    "    sentiment = blob.sentiment\n",
    "    return sentiment\n",
    "\n",
    "sentimento1 = analyze_sentiment(texto)\n",
    "\n",
    "print(f'A análise de sentimentos retornou: {sentimento1}')\n",
    "\n"
   ]
  },
  {
   "cell_type": "code",
   "execution_count": 37,
   "metadata": {},
   "outputs": [
    {
     "name": "stdout",
     "output_type": "stream",
     "text": [
      "{'neg': 0.311, 'neu': 0.474, 'pos': 0.216, 'compound': -0.5574}\n"
     ]
    }
   ],
   "source": [
    "analisar_sentimento = SentimentIntensityAnalyzer()\n",
    "sentimento = analisar_sentimento.polarity_scores(texto)\n",
    "print(sentimento)"
   ]
  },
  {
   "cell_type": "code",
   "execution_count": null,
   "metadata": {},
   "outputs": [],
   "source": []
  }
 ],
 "metadata": {
  "kernelspec": {
   "display_name": "Python 3",
   "language": "python",
   "name": "python3"
  },
  "language_info": {
   "codemirror_mode": {
    "name": "ipython",
    "version": 3
   },
   "file_extension": ".py",
   "mimetype": "text/x-python",
   "name": "python",
   "nbconvert_exporter": "python",
   "pygments_lexer": "ipython3",
   "version": "3.13.0"
  }
 },
 "nbformat": 4,
 "nbformat_minor": 2
}

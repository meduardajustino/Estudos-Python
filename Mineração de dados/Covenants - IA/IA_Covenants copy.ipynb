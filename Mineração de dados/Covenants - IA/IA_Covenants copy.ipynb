{
 "cells": [
  {
   "cell_type": "markdown",
   "metadata": {},
   "source": [
    "## Análise dos dados dos covenants coletados"
   ]
  },
  {
   "cell_type": "code",
   "execution_count": 1,
   "metadata": {},
   "outputs": [
    {
     "ename": "ModuleNotFoundError",
     "evalue": "No module named 'spacy'",
     "output_type": "error",
     "traceback": [
      "\u001b[1;31m---------------------------------------------------------------------------\u001b[0m",
      "\u001b[1;31mModuleNotFoundError\u001b[0m                       Traceback (most recent call last)",
      "Cell \u001b[1;32mIn[1], line 5\u001b[0m\n\u001b[0;32m      3\u001b[0m \u001b[38;5;28;01mimport\u001b[39;00m \u001b[38;5;21;01mpandas\u001b[39;00m \u001b[38;5;28;01mas\u001b[39;00m \u001b[38;5;21;01mpd\u001b[39;00m\n\u001b[0;32m      4\u001b[0m \u001b[38;5;28;01mimport\u001b[39;00m \u001b[38;5;21;01mre\u001b[39;00m\n\u001b[1;32m----> 5\u001b[0m \u001b[38;5;28;01mimport\u001b[39;00m \u001b[38;5;21;01mspacy\u001b[39;00m\n\u001b[0;32m      6\u001b[0m \u001b[38;5;28;01mfrom\u001b[39;00m \u001b[38;5;21;01msklearn\u001b[39;00m\u001b[38;5;21;01m.\u001b[39;00m\u001b[38;5;21;01mfeature_extraction\u001b[39;00m\u001b[38;5;21;01m.\u001b[39;00m\u001b[38;5;21;01mtext\u001b[39;00m \u001b[38;5;28;01mimport\u001b[39;00m TfidfVectorizer\n\u001b[0;32m      7\u001b[0m \u001b[38;5;28;01mfrom\u001b[39;00m \u001b[38;5;21;01msklearn\u001b[39;00m\u001b[38;5;21;01m.\u001b[39;00m\u001b[38;5;21;01mmodel_selection\u001b[39;00m \u001b[38;5;28;01mimport\u001b[39;00m train_test_split\n",
      "\u001b[1;31mModuleNotFoundError\u001b[0m: No module named 'spacy'"
     ]
    }
   ],
   "source": [
    "# Bibliotecas utilizadas\n",
    "import os\n",
    "import pandas as pd\n",
    "import re\n",
    "import spacy\n",
    "from sklearn.feature_extraction.text import TfidfVectorizer\n",
    "from sklearn.model_selection import train_test_split\n",
    "from sklearn.ensemble import RandomForestClassifier\n",
    "from sklearn.pipeline import make_pipeline\n",
    "from sklearn.preprocessing import LabelEncoder\n",
    "import fitz  # PyMuPDF para leitura de PDFs\n"
   ]
  },
  {
   "cell_type": "code",
   "execution_count": null,
   "metadata": {},
   "outputs": [],
   "source": [
    "# **1. Carregar e pré-processar dados manuais**\n",
    "df_covenants = pd.read_csv(\"base_covenants.csv\", delimiter=\";\", encoding=\"utf-8\")\n",
    "df_covenants.columns = df_covenants.columns.str.strip()\n",
    "\n",
    "# **2. Carregar NLP do spaCy**\n",
    "nlp = spacy.load(\"pt_core_news_sm\")\n",
    "\n",
    "def preprocessar_texto(texto):\n",
    "    \"\"\" Limpa e tokeniza usando spaCy \"\"\"\n",
    "    doc = nlp(texto.lower())\n",
    "    tokens = [token.lemma_ for token in doc if not token.is_stop and token.is_alpha]\n",
    "    return \" \".join(tokens)\n",
    "\n",
    "df_covenants[\"Texto Processado\"] = df_covenants[\"Descrição\"].apply(preprocessar_texto)\n",
    "\n",
    "# **3. Vetorização TF-IDF**\n",
    "vectorizer = TfidfVectorizer(max_features=500)\n",
    "X = vectorizer.fit_transform(df_covenants[\"Texto Processado\"])\n",
    "\n",
    "# **4. Codificar labels**\n",
    "encoder = LabelEncoder()\n",
    "y = encoder.fit_transform(df_covenants[\"TIPO\"])\n",
    "\n",
    "# **5. Treinar modelo de classificação**\n",
    "X_train, X_test, y_train, y_test = train_test_split(X, y, test_size=0.2, random_state=42)\n",
    "modelo = RandomForestClassifier(n_estimators=100, random_state=42)\n",
    "modelo.fit(X_train, y_train)\n",
    "\n",
    "# **6. Função para extrair informações específicas**\n",
    "def extrair_texto_pdf(caminho_pdf):\n",
    "    \"\"\" Extrai texto de um PDF \"\"\"\n",
    "    texto = \"\"\n",
    "    with fitz.open(caminho_pdf) as pdf:\n",
    "        for pagina in pdf:\n",
    "            texto += pagina.get_text(\"text\") + \"\\n\"\n",
    "    return texto\n",
    "\n",
    "def extrair_limite(texto):\n",
    "    \"\"\" Extrai valores numéricos relacionados a limites do texto \"\"\"\n",
    "    match = re.search(r\"limite.*?(\\d+[.,]?\\d*)\", texto, re.IGNORECASE)\n",
    "    return match.group(1) if match else \"Não especificado\"\n",
    "\n",
    "def verificar_violacao(texto):\n",
    "    \"\"\" Detecta termos indicativos de violação \"\"\"\n",
    "    padroes_violacao = [\"violação\", \"descumprimento\", \"inadimplência\", \"não cumprimento\"]\n",
    "    return \"Sim\" if any(p in texto.lower() for p in padroes_violacao) else \"Não\"\n",
    "\n",
    "def verificar_divulgacao(texto):\n",
    "    \"\"\" Verifica se o texto menciona divulgação do covenant \"\"\"\n",
    "    return \"Sim\" if \"divulgação\" in texto.lower() else \"Não\""
   ]
  },
  {
   "cell_type": "code",
   "execution_count": null,
   "metadata": {},
   "outputs": [],
   "source": [
    "# **7. Processar PDFs novos**\n",
    "covenants_notas = \"M:\\\\Maria Eduarda\\\\Downloads\\\\Empresas Com Covenants\"\n",
    "dados = []\n",
    "\n",
    "for caminho, subpastas, arquivos in os.walk(covenants_notas):\n",
    "    if caminho == covenants_notas:\n",
    "        continue\n",
    "    \n",
    "    relative_path = os.path.relpath(caminho, covenants_notas)\n",
    "    empresa = relative_path.split(os.sep)[0]\n",
    "    \n",
    "    for arquivo in arquivos:\n",
    "        if arquivo.endswith(\".pdf\"):\n",
    "            ano = re.search(r\"\\d{4}\", arquivo)\n",
    "            ano = int(ano.group()) if ano else \"Desconhecido\"\n",
    "            \n",
    "            # **8. Ler e processar texto**\n",
    "            texto = extrair_texto_pdf(os.path.join(caminho, arquivo))\n",
    "            texto_processado = preprocessar_texto(texto)\n",
    "            X_novo = vectorizer.transform([texto_processado])\n",
    "            \n",
    "            # **9. Predizer tipo de covenant**\n",
    "            tipo_predito = encoder.inverse_transform(modelo.predict(X_novo))[0]\n",
    "            \n",
    "            # **10. Extração de informações adicionais**\n",
    "            limite = extrair_limite(texto)\n",
    "            violou = verificar_violacao(texto)\n",
    "            divulgou = verificar_divulgacao(texto)\n",
    "            possui_covenant = \"Sim\" if tipo_predito else \"Não\"\n",
    "            \n",
    "            # **11. Salvar no DataFrame**\n",
    "            dados.append({\n",
    "                \"EMPRESA\": empresa,\n",
    "                \"POSSUI COVENANT\": possui_covenant,\n",
    "                \"DIVULGOU\": divulgou,\n",
    "                \"ANO\": ano,\n",
    "                \"Debenture ou emprestimo e financiamento\": \"Debenture\" if \"debenture\" in texto.lower() else \"Financiamento\",\n",
    "                \"TIPO\": tipo_predito,\n",
    "                \"Limite\": limite,\n",
    "                \"Violou?\": violou\n",
    "            })"
   ]
  },
  {
   "cell_type": "code",
   "execution_count": null,
   "metadata": {},
   "outputs": [],
   "source": [
    "# **12. Criar e salvar DataFrame final**\n",
    "df_resultado = pd.DataFrame(dados)\n",
    "df_resultado.to_excel(\"covenants_detectados.xlsx\", index=False)\n",
    "\n",
    "# Exibir amostra\n",
    "display(df_resultado)"
   ]
  },
  {
   "cell_type": "code",
   "execution_count": null,
   "metadata": {},
   "outputs": [],
   "source": []
  },
  {
   "cell_type": "code",
   "execution_count": null,
   "metadata": {},
   "outputs": [],
   "source": []
  }
 ],
 "metadata": {
  "kernelspec": {
   "display_name": "Python 3",
   "language": "python",
   "name": "python3"
  },
  "language_info": {
   "codemirror_mode": {
    "name": "ipython",
    "version": 3
   },
   "file_extension": ".py",
   "mimetype": "text/x-python",
   "name": "python",
   "nbconvert_exporter": "python",
   "pygments_lexer": "ipython3",
   "version": "3.13.0"
  }
 },
 "nbformat": 4,
 "nbformat_minor": 2
}

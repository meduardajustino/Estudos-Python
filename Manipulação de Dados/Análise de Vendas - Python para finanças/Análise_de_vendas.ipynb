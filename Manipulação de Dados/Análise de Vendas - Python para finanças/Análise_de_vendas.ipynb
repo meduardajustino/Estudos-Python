{
 "cells": [
  {
   "cell_type": "markdown",
   "metadata": {},
   "source": [
    "## Relatório de desempenho de vendas\n",
    "\n",
    "Com uma base de dados contendo as vendas consolidadas de 2023 em todo o Brasil.\n",
    "\n",
    "Este projeto é uma excelente oportunidade para praticar a manipulação e visualização de dados, além de aprender a gerar relatórios automatizados em um formato amplamente utilizado.\n",
    "\n",
    "O projeto é altamente versátil e pode ser aplicado a outros tipos de dados contábeis e financeiros de empresas. Por exemplo, podemos adaptar o código para criar relatórios de fluxo de caixa, demonstrativos de resultados, ou mesmo relatórios detalhados de despesas e receitas. A capacidade de gerar relatórios automatizados ajuda a economizar tempo e trazer consistência nos documentos gerados."
   ]
  },
  {
   "cell_type": "code",
   "execution_count": 1,
   "metadata": {},
   "outputs": [],
   "source": [
    "# bibliotecas usadas\n",
    "import pandas as pd\n",
    "import matplotlib.pyplot as plt"
   ]
  },
  {
   "cell_type": "code",
   "execution_count": 2,
   "metadata": {},
   "outputs": [
    {
     "data": {
      "text/html": [
       "<div>\n",
       "<style scoped>\n",
       "    .dataframe tbody tr th:only-of-type {\n",
       "        vertical-align: middle;\n",
       "    }\n",
       "\n",
       "    .dataframe tbody tr th {\n",
       "        vertical-align: top;\n",
       "    }\n",
       "\n",
       "    .dataframe thead th {\n",
       "        text-align: right;\n",
       "    }\n",
       "</style>\n",
       "<table border=\"1\" class=\"dataframe\">\n",
       "  <thead>\n",
       "    <tr style=\"text-align: right;\">\n",
       "      <th></th>\n",
       "      <th>data_pedido</th>\n",
       "      <th>modo_envio</th>\n",
       "      <th>segmento_cliente</th>\n",
       "      <th>cidade</th>\n",
       "      <th>estado</th>\n",
       "      <th>regiao</th>\n",
       "      <th>departamento</th>\n",
       "      <th>tipo_produto</th>\n",
       "      <th>preco_base</th>\n",
       "      <th>preco_unit_sem_desc</th>\n",
       "      <th>desconto</th>\n",
       "      <th>preco_unit_venda</th>\n",
       "      <th>quantidade</th>\n",
       "      <th>vendas</th>\n",
       "      <th>lucro</th>\n",
       "    </tr>\n",
       "  </thead>\n",
       "  <tbody>\n",
       "    <tr>\n",
       "      <th>0</th>\n",
       "      <td>2023-06-22</td>\n",
       "      <td>Econômica</td>\n",
       "      <td>B2C</td>\n",
       "      <td>Ribeirão Preto</td>\n",
       "      <td>São Paulo</td>\n",
       "      <td>Sudeste</td>\n",
       "      <td>Materiais de construção</td>\n",
       "      <td>encanamentos</td>\n",
       "      <td>409.70</td>\n",
       "      <td>445.33</td>\n",
       "      <td>0.000</td>\n",
       "      <td>445.33</td>\n",
       "      <td>2</td>\n",
       "      <td>890.66</td>\n",
       "      <td>71.26</td>\n",
       "    </tr>\n",
       "    <tr>\n",
       "      <th>1</th>\n",
       "      <td>2023-02-17</td>\n",
       "      <td>Econômica</td>\n",
       "      <td>B2C</td>\n",
       "      <td>Ribeirão Preto</td>\n",
       "      <td>São Paulo</td>\n",
       "      <td>Sudeste</td>\n",
       "      <td>Materiais de construção</td>\n",
       "      <td>ferramentas</td>\n",
       "      <td>705.10</td>\n",
       "      <td>829.53</td>\n",
       "      <td>0.000</td>\n",
       "      <td>829.53</td>\n",
       "      <td>3</td>\n",
       "      <td>2488.59</td>\n",
       "      <td>373.29</td>\n",
       "    </tr>\n",
       "    <tr>\n",
       "      <th>2</th>\n",
       "      <td>2023-04-28</td>\n",
       "      <td>Econômica</td>\n",
       "      <td>B2B</td>\n",
       "      <td>Rio de Janeiro</td>\n",
       "      <td>Rio de Janeiro</td>\n",
       "      <td>Sudeste</td>\n",
       "      <td>Jardinagem e paisagismo</td>\n",
       "      <td>sementes</td>\n",
       "      <td>19.02</td>\n",
       "      <td>24.86</td>\n",
       "      <td>0.000</td>\n",
       "      <td>24.86</td>\n",
       "      <td>2</td>\n",
       "      <td>49.72</td>\n",
       "      <td>11.68</td>\n",
       "    </tr>\n",
       "    <tr>\n",
       "      <th>3</th>\n",
       "      <td>2023-07-12</td>\n",
       "      <td>Entrega padrão</td>\n",
       "      <td>B2C</td>\n",
       "      <td>Foz do Iguaçu</td>\n",
       "      <td>Paraná</td>\n",
       "      <td>Sul</td>\n",
       "      <td>Materiais de construção</td>\n",
       "      <td>materiais de revestimento</td>\n",
       "      <td>781.38</td>\n",
       "      <td>840.19</td>\n",
       "      <td>0.225</td>\n",
       "      <td>651.15</td>\n",
       "      <td>5</td>\n",
       "      <td>3255.75</td>\n",
       "      <td>-651.15</td>\n",
       "    </tr>\n",
       "    <tr>\n",
       "      <th>4</th>\n",
       "      <td>2023-11-20</td>\n",
       "      <td>Entrega padrão</td>\n",
       "      <td>B2C</td>\n",
       "      <td>Foz do Iguaçu</td>\n",
       "      <td>Paraná</td>\n",
       "      <td>Sul</td>\n",
       "      <td>Jardinagem e paisagismo</td>\n",
       "      <td>vasos</td>\n",
       "      <td>35.88</td>\n",
       "      <td>42.24</td>\n",
       "      <td>0.100</td>\n",
       "      <td>38.02</td>\n",
       "      <td>2</td>\n",
       "      <td>76.04</td>\n",
       "      <td>4.28</td>\n",
       "    </tr>\n",
       "  </tbody>\n",
       "</table>\n",
       "</div>"
      ],
      "text/plain": [
       "  data_pedido      modo_envio segmento_cliente          cidade  \\\n",
       "0  2023-06-22       Econômica              B2C  Ribeirão Preto   \n",
       "1  2023-02-17       Econômica              B2C  Ribeirão Preto   \n",
       "2  2023-04-28       Econômica              B2B  Rio de Janeiro   \n",
       "3  2023-07-12  Entrega padrão              B2C   Foz do Iguaçu   \n",
       "4  2023-11-20  Entrega padrão              B2C   Foz do Iguaçu   \n",
       "\n",
       "           estado   regiao             departamento  \\\n",
       "0       São Paulo  Sudeste  Materiais de construção   \n",
       "1       São Paulo  Sudeste  Materiais de construção   \n",
       "2  Rio de Janeiro  Sudeste  Jardinagem e paisagismo   \n",
       "3          Paraná      Sul  Materiais de construção   \n",
       "4          Paraná      Sul  Jardinagem e paisagismo   \n",
       "\n",
       "                tipo_produto  preco_base  preco_unit_sem_desc  desconto  \\\n",
       "0               encanamentos      409.70               445.33     0.000   \n",
       "1                ferramentas      705.10               829.53     0.000   \n",
       "2                   sementes       19.02                24.86     0.000   \n",
       "3  materiais de revestimento      781.38               840.19     0.225   \n",
       "4                      vasos       35.88                42.24     0.100   \n",
       "\n",
       "   preco_unit_venda  quantidade   vendas   lucro  \n",
       "0            445.33           2   890.66   71.26  \n",
       "1            829.53           3  2488.59  373.29  \n",
       "2             24.86           2    49.72   11.68  \n",
       "3            651.15           5  3255.75 -651.15  \n",
       "4             38.02           2    76.04    4.28  "
      ]
     },
     "execution_count": 2,
     "metadata": {},
     "output_type": "execute_result"
    }
   ],
   "source": [
    "df_vendas = pd.read_csv(\"https://raw.githubusercontent.com/afonsosr2/python-financas/main/Video_01/vendas.csv\")\n",
    "df_vendas[\"data_pedido\"] = pd.to_datetime(df_vendas['data_pedido'], format=\"%Y-%m-%d\")\n",
    "df_vendas.head()"
   ]
  },
  {
   "cell_type": "code",
   "execution_count": 3,
   "metadata": {},
   "outputs": [
    {
     "name": "stdout",
     "output_type": "stream",
     "text": [
      "<class 'pandas.core.frame.DataFrame'>\n",
      "RangeIndex: 8940 entries, 0 to 8939\n",
      "Data columns (total 15 columns):\n",
      " #   Column               Non-Null Count  Dtype         \n",
      "---  ------               --------------  -----         \n",
      " 0   data_pedido          8940 non-null   datetime64[ns]\n",
      " 1   modo_envio           8940 non-null   object        \n",
      " 2   segmento_cliente     8940 non-null   object        \n",
      " 3   cidade               8940 non-null   object        \n",
      " 4   estado               8940 non-null   object        \n",
      " 5   regiao               8940 non-null   object        \n",
      " 6   departamento         8940 non-null   object        \n",
      " 7   tipo_produto         8940 non-null   object        \n",
      " 8   preco_base           8940 non-null   float64       \n",
      " 9   preco_unit_sem_desc  8940 non-null   float64       \n",
      " 10  desconto             8940 non-null   float64       \n",
      " 11  preco_unit_venda     8940 non-null   float64       \n",
      " 12  quantidade           8940 non-null   int64         \n",
      " 13  vendas               8940 non-null   float64       \n",
      " 14  lucro                8940 non-null   float64       \n",
      "dtypes: datetime64[ns](1), float64(6), int64(1), object(7)\n",
      "memory usage: 1.0+ MB\n"
     ]
    }
   ],
   "source": [
    "df_vendas.info()"
   ]
  },
  {
   "cell_type": "markdown",
   "metadata": {},
   "source": [
    "### Vendas por mês"
   ]
  },
  {
   "cell_type": "code",
   "execution_count": 4,
   "metadata": {},
   "outputs": [
    {
     "name": "stderr",
     "output_type": "stream",
     "text": [
      "C:\\Users\\Maria Eduarda\\AppData\\Local\\Temp\\ipykernel_4352\\3247755755.py:4: FutureWarning: 'M' is deprecated and will be removed in a future version, please use 'ME' instead.\n",
      "  vendas_por_mes = vendas_por_mes.resample(\"M\").sum()\n"
     ]
    },
    {
     "data": {
      "text/html": [
       "<div>\n",
       "<style scoped>\n",
       "    .dataframe tbody tr th:only-of-type {\n",
       "        vertical-align: middle;\n",
       "    }\n",
       "\n",
       "    .dataframe tbody tr th {\n",
       "        vertical-align: top;\n",
       "    }\n",
       "\n",
       "    .dataframe thead th {\n",
       "        text-align: right;\n",
       "    }\n",
       "</style>\n",
       "<table border=\"1\" class=\"dataframe\">\n",
       "  <thead>\n",
       "    <tr style=\"text-align: right;\">\n",
       "      <th></th>\n",
       "      <th>Mês</th>\n",
       "      <th>vendas</th>\n",
       "    </tr>\n",
       "  </thead>\n",
       "  <tbody>\n",
       "    <tr>\n",
       "      <th>7</th>\n",
       "      <td>2023-08-31</td>\n",
       "      <td>646845.83</td>\n",
       "    </tr>\n",
       "    <tr>\n",
       "      <th>8</th>\n",
       "      <td>2023-09-30</td>\n",
       "      <td>562362.24</td>\n",
       "    </tr>\n",
       "    <tr>\n",
       "      <th>9</th>\n",
       "      <td>2023-10-31</td>\n",
       "      <td>607337.87</td>\n",
       "    </tr>\n",
       "    <tr>\n",
       "      <th>10</th>\n",
       "      <td>2023-11-30</td>\n",
       "      <td>619353.47</td>\n",
       "    </tr>\n",
       "    <tr>\n",
       "      <th>11</th>\n",
       "      <td>2023-12-31</td>\n",
       "      <td>585893.35</td>\n",
       "    </tr>\n",
       "  </tbody>\n",
       "</table>\n",
       "</div>"
      ],
      "text/plain": [
       "          Mês     vendas\n",
       "7  2023-08-31  646845.83\n",
       "8  2023-09-30  562362.24\n",
       "9  2023-10-31  607337.87\n",
       "10 2023-11-30  619353.47\n",
       "11 2023-12-31  585893.35"
      ]
     },
     "execution_count": 4,
     "metadata": {},
     "output_type": "execute_result"
    }
   ],
   "source": [
    "vendas_por_mes = df_vendas[[\"data_pedido\", \"vendas\"]]\n",
    "\n",
    "vendas_por_mes.set_index(\"data_pedido\", inplace=True)\n",
    "vendas_por_mes = vendas_por_mes.resample(\"M\").sum()\n",
    "vendas_por_mes = vendas_por_mes.rename_axis(\"Mês\").reset_index()\n",
    "vendas_por_mes.tail()"
   ]
  },
  {
   "cell_type": "code",
   "execution_count": 5,
   "metadata": {},
   "outputs": [
    {
     "data": {
      "text/html": [
       "<div>\n",
       "<style scoped>\n",
       "    .dataframe tbody tr th:only-of-type {\n",
       "        vertical-align: middle;\n",
       "    }\n",
       "\n",
       "    .dataframe tbody tr th {\n",
       "        vertical-align: top;\n",
       "    }\n",
       "\n",
       "    .dataframe thead th {\n",
       "        text-align: right;\n",
       "    }\n",
       "</style>\n",
       "<table border=\"1\" class=\"dataframe\">\n",
       "  <thead>\n",
       "    <tr style=\"text-align: right;\">\n",
       "      <th></th>\n",
       "      <th>Mês</th>\n",
       "      <th>vendas</th>\n",
       "    </tr>\n",
       "  </thead>\n",
       "  <tbody>\n",
       "    <tr>\n",
       "      <th>0</th>\n",
       "      <td>Jan</td>\n",
       "      <td>551.28</td>\n",
       "    </tr>\n",
       "    <tr>\n",
       "      <th>1</th>\n",
       "      <td>Feb</td>\n",
       "      <td>545.09</td>\n",
       "    </tr>\n",
       "    <tr>\n",
       "      <th>2</th>\n",
       "      <td>Mar</td>\n",
       "      <td>580.62</td>\n",
       "    </tr>\n",
       "    <tr>\n",
       "      <th>3</th>\n",
       "      <td>Apr</td>\n",
       "      <td>645.45</td>\n",
       "    </tr>\n",
       "    <tr>\n",
       "      <th>4</th>\n",
       "      <td>May</td>\n",
       "      <td>634.16</td>\n",
       "    </tr>\n",
       "    <tr>\n",
       "      <th>5</th>\n",
       "      <td>Jun</td>\n",
       "      <td>582.66</td>\n",
       "    </tr>\n",
       "    <tr>\n",
       "      <th>6</th>\n",
       "      <td>Jul</td>\n",
       "      <td>519.95</td>\n",
       "    </tr>\n",
       "    <tr>\n",
       "      <th>7</th>\n",
       "      <td>Aug</td>\n",
       "      <td>646.85</td>\n",
       "    </tr>\n",
       "    <tr>\n",
       "      <th>8</th>\n",
       "      <td>Sep</td>\n",
       "      <td>562.36</td>\n",
       "    </tr>\n",
       "    <tr>\n",
       "      <th>9</th>\n",
       "      <td>Oct</td>\n",
       "      <td>607.34</td>\n",
       "    </tr>\n",
       "    <tr>\n",
       "      <th>10</th>\n",
       "      <td>Nov</td>\n",
       "      <td>619.35</td>\n",
       "    </tr>\n",
       "    <tr>\n",
       "      <th>11</th>\n",
       "      <td>Dec</td>\n",
       "      <td>585.89</td>\n",
       "    </tr>\n",
       "  </tbody>\n",
       "</table>\n",
       "</div>"
      ],
      "text/plain": [
       "    Mês  vendas\n",
       "0   Jan  551.28\n",
       "1   Feb  545.09\n",
       "2   Mar  580.62\n",
       "3   Apr  645.45\n",
       "4   May  634.16\n",
       "5   Jun  582.66\n",
       "6   Jul  519.95\n",
       "7   Aug  646.85\n",
       "8   Sep  562.36\n",
       "9   Oct  607.34\n",
       "10  Nov  619.35\n",
       "11  Dec  585.89"
      ]
     },
     "execution_count": 5,
     "metadata": {},
     "output_type": "execute_result"
    }
   ],
   "source": [
    "vendas_por_mes[\"Mês\"] = pd.to_datetime(vendas_por_mes[\"Mês\"], errors='coerce') # transformando em datetime\n",
    "vendas_por_mes[\"Mês\"] = vendas_por_mes[\"Mês\"].dt.strftime(\"%b\")\n",
    "vendas_por_mes[\"vendas\"] = (vendas_por_mes[\"vendas\"] / 1e3).round(2)\n",
    "vendas_por_mes"
   ]
  },
  {
   "cell_type": "code",
   "execution_count": 6,
   "metadata": {},
   "outputs": [],
   "source": [
    "def grafico_vendas_por_mes(df, filename):\n",
    "    fig, ax = plt.subplots(figsize=(12,6), dpi=100)\n",
    "    \n",
    "    ax.plot(df[\"Mês\"], df[\"vendas\"], lw = 3, marker = \"x\", color=\"darkgreen\")\n",
    "    \n",
    "    ax.set_title(\"Total de Vendas em 2023\", fontsize = 18, loc='left')\n",
    "    ax.set_xlabel(\"Mês\")\n",
    "    ax.set_ylabel(\"Vendas (em milhares de reais)\")\n",
    "    ax.set_frame_on(False)\n",
    "    ax.grid(True, color='grey', ls='--', alpha=0.5)\n",
    "    ax.tick_params(axis=\"both\", which='both', length=0)\n",
    "    \n",
    "    plt.ylim(0, df[\"vendas\"].max() + 100)\n",
    "    plt.savefig(filename, dpi=100, bbox_inches='tight', pad_inches=0)\n",
    "    plt.show()"
   ]
  },
  {
   "cell_type": "code",
   "execution_count": 7,
   "metadata": {},
   "outputs": [
    {
     "data": {
      "image/png": "[encoded data removed]",
      "text/plain": [
       "<Figure size 1200x600 with 1 Axes>"
      ]
     },
     "metadata": {},
     "output_type": "display_data"
    }
   ],
   "source": [
    "grafico_vendas_por_mes(vendas_por_mes, \"vendas_por_mes.png\")"
   ]
  },
  {
   "cell_type": "markdown",
   "metadata": {},
   "source": [
    "### Lucro por departamento anual"
   ]
  },
  {
   "cell_type": "code",
   "execution_count": 8,
   "metadata": {},
   "outputs": [
    {
     "data": {
      "text/html": [
       "<div>\n",
       "<style scoped>\n",
       "    .dataframe tbody tr th:only-of-type {\n",
       "        vertical-align: middle;\n",
       "    }\n",
       "\n",
       "    .dataframe tbody tr th {\n",
       "        vertical-align: top;\n",
       "    }\n",
       "\n",
       "    .dataframe thead th {\n",
       "        text-align: right;\n",
       "    }\n",
       "</style>\n",
       "<table border=\"1\" class=\"dataframe\">\n",
       "  <thead>\n",
       "    <tr style=\"text-align: right;\">\n",
       "      <th></th>\n",
       "      <th>departamento</th>\n",
       "      <th>lucro</th>\n",
       "    </tr>\n",
       "  </thead>\n",
       "  <tbody>\n",
       "    <tr>\n",
       "      <th>0</th>\n",
       "      <td>Automotivo</td>\n",
       "      <td>230663.33</td>\n",
       "    </tr>\n",
       "    <tr>\n",
       "      <th>1</th>\n",
       "      <td>Jardinagem e paisagismo</td>\n",
       "      <td>196801.66</td>\n",
       "    </tr>\n",
       "    <tr>\n",
       "      <th>2</th>\n",
       "      <td>Materiais de construção</td>\n",
       "      <td>26793.53</td>\n",
       "    </tr>\n",
       "  </tbody>\n",
       "</table>\n",
       "</div>"
      ],
      "text/plain": [
       "              departamento      lucro\n",
       "0               Automotivo  230663.33\n",
       "1  Jardinagem e paisagismo  196801.66\n",
       "2  Materiais de construção   26793.53"
      ]
     },
     "execution_count": 8,
     "metadata": {},
     "output_type": "execute_result"
    }
   ],
   "source": [
    "lucro_dpt = df_vendas[[\"departamento\",\"lucro\"]]\n",
    "\n",
    "lucro_dpt = lucro_dpt.groupby(\"departamento\").sum()\n",
    "lucro_dpt = lucro_dpt.reset_index()\n",
    "lucro_dpt"
   ]
  },
  {
   "cell_type": "code",
   "execution_count": 9,
   "metadata": {},
   "outputs": [],
   "source": [
    "def grafico_lucro_por_departamento(df, filename):\n",
    "    fig, ax = plt.subplots(figsize=(12,6),dpi=100)\n",
    "    \n",
    "    ax.barh(df[\"departamento\"], df[\"lucro\"], height=0.8, color=\"darkgreen\")\n",
    "\n",
    "    ax.set_title('Lucro por Departamento em 2023', fontsize = 18, loc='left')\n",
    "    ax.set_frame_on(False)\n",
    "    ax.set_xticklabels([])\n",
    "    ax.tick_params(axis='both', which='both', length=0)\n",
    "\n",
    "    for i, v in enumerate(df[\"lucro\"]):\n",
    "        ax.text(df[\"lucro\"][i] + 1e3, i, f'R$ {df[\"lucro\"][i]:,.2f}', fontsize = 12, ha = 'left', va='center')\n",
    "\n",
    "    plt.savefig(filename, dpi=100, bbox_inches='tight', pad_inches=0)\n",
    "    plt.show()\n",
    "        "
   ]
  },
  {
   "cell_type": "code",
   "execution_count": 10,
   "metadata": {},
   "outputs": [
    {
     "data": {
      "image/png": "[encoded data removed]",
      "text/plain": [
       "<Figure size 1200x600 with 1 Axes>"
      ]
     },
     "metadata": {},
     "output_type": "display_data"
    }
   ],
   "source": [
    "grafico_lucro_por_departamento(lucro_dpt, \"lucro_departamento.png\")"
   ]
  },
  {
   "cell_type": "markdown",
   "metadata": {},
   "source": [
    "### Modos de envio mais utilizados do estado de Pernambuco"
   ]
  },
  {
   "cell_type": "code",
   "execution_count": 11,
   "metadata": {},
   "outputs": [
    {
     "data": {
      "text/html": [
       "<div>\n",
       "<style scoped>\n",
       "    .dataframe tbody tr th:only-of-type {\n",
       "        vertical-align: middle;\n",
       "    }\n",
       "\n",
       "    .dataframe tbody tr th {\n",
       "        vertical-align: top;\n",
       "    }\n",
       "\n",
       "    .dataframe thead th {\n",
       "        text-align: right;\n",
       "    }\n",
       "</style>\n",
       "<table border=\"1\" class=\"dataframe\">\n",
       "  <thead>\n",
       "    <tr style=\"text-align: right;\">\n",
       "      <th></th>\n",
       "      <th>modo_envio</th>\n",
       "      <th>count</th>\n",
       "    </tr>\n",
       "  </thead>\n",
       "  <tbody>\n",
       "    <tr>\n",
       "      <th>0</th>\n",
       "      <td>Entrega padrão</td>\n",
       "      <td>228</td>\n",
       "    </tr>\n",
       "    <tr>\n",
       "      <th>1</th>\n",
       "      <td>Envio rápido</td>\n",
       "      <td>55</td>\n",
       "    </tr>\n",
       "    <tr>\n",
       "      <th>2</th>\n",
       "      <td>Econômica</td>\n",
       "      <td>52</td>\n",
       "    </tr>\n",
       "    <tr>\n",
       "      <th>3</th>\n",
       "      <td>24 horas</td>\n",
       "      <td>8</td>\n",
       "    </tr>\n",
       "  </tbody>\n",
       "</table>\n",
       "</div>"
      ],
      "text/plain": [
       "       modo_envio  count\n",
       "0  Entrega padrão    228\n",
       "1    Envio rápido     55\n",
       "2       Econômica     52\n",
       "3        24 horas      8"
      ]
     },
     "execution_count": 11,
     "metadata": {},
     "output_type": "execute_result"
    }
   ],
   "source": [
    "envios_pe = df_vendas.query('estado == \"Pernambuco\"')[[\"modo_envio\"]]\n",
    "envios_pe = envios_pe.value_counts().to_frame()\n",
    "envios_pe = envios_pe.reset_index()\n",
    "envios_pe\n"
   ]
  },
  {
   "cell_type": "code",
   "execution_count": 12,
   "metadata": {},
   "outputs": [],
   "source": [
    "soma = envios_pe[\"count\"].sum()\n"
   ]
  },
  {
   "cell_type": "code",
   "execution_count": 13,
   "metadata": {},
   "outputs": [],
   "source": [
    "def grafico_modo_envio(df, filename):\n",
    "  fig, ax = plt.subplots(figsize=(12,6),dpi=100)\n",
    "\n",
    "  ax.bar(df[\"modo_envio\"], df[\"count\"], color=\"darkgreen\")\n",
    "\n",
    "  ax.set_title('Modos de Envio mais utilizados em Pernambuco (2023)', fontsize = 18, loc='left')\n",
    "  ax.set_frame_on(False)\n",
    "  ax.set_yticklabels([])\n",
    "  ax.tick_params(axis='both', which='both', length=0)\n",
    "\n",
    "  for i, v in enumerate(df[\"count\"]):\n",
    "    ax.text(i, df[\"count\"][i], df[\"count\"][i], fontsize = 12, ha = 'center', va='bottom')\n",
    "\n",
    "  plt.savefig(filename, dpi=100, bbox_inches='tight', pad_inches=0)\n",
    "  plt.show()"
   ]
  },
  {
   "cell_type": "code",
   "execution_count": 14,
   "metadata": {},
   "outputs": [
    {
     "data": {
      "image/png": "[encoded data removed]",
      "text/plain": [
       "<Figure size 1200x600 with 1 Axes>"
      ]
     },
     "metadata": {},
     "output_type": "display_data"
    }
   ],
   "source": [
    "grafico_modo_envio(envios_pe,\"envios_pernambuco.png\")"
   ]
  },
  {
   "cell_type": "markdown",
   "metadata": {},
   "source": [
    "### Gerando o documento em pdf do relatório"
   ]
  },
  {
   "cell_type": "code",
   "execution_count": 15,
   "metadata": {},
   "outputs": [],
   "source": [
    "# !pip install fpdf dataframe_image"
   ]
  },
  {
   "cell_type": "code",
   "execution_count": 16,
   "metadata": {},
   "outputs": [],
   "source": [
    "from fpdf import FPDF\n",
    "import dataframe_image as dfi\n",
    "import time"
   ]
  },
  {
   "cell_type": "markdown",
   "metadata": {},
   "source": [
    "Os gráficos já estão salvos em imagem em nossa aba de arquivo, falta agora salvar também as tabelas geradas."
   ]
  },
  {
   "cell_type": "code",
   "execution_count": 17,
   "metadata": {},
   "outputs": [],
   "source": [
    "dfi.export(vendas_por_mes, 'tab_vendas_por_mes.png', table_conversion=\"matplotlib\")\n",
    "dfi.export(lucro_dpt, 'tab_lucro_dpt.png', table_conversion=\"matplotlib\")\n",
    "dfi.export(envios_pe, 'tab_envios_pe.png', table_conversion=\"matplotlib\")"
   ]
  },
  {
   "cell_type": "markdown",
   "metadata": {},
   "source": [
    "Para facilitar a escrita do pdf, vamos criar duas funções personalizadas: uma para adicionar o título na 1ª página e outra para adicionar textos ao longo do documento"
   ]
  },
  {
   "cell_type": "code",
   "execution_count": 18,
   "metadata": {},
   "outputs": [],
   "source": [
    "# Função para o título\n",
    "def titulo(pdf, title):\n",
    "\n",
    "    # Titulo principal\n",
    "    pdf.set_font('Helvetica', 'b', 18)\n",
    "    pdf.ln(10)\n",
    "    pdf.write(5, title)\n",
    "    pdf.ln(10)\n",
    "\n",
    "    # Adicionando a data de geração do relatório\n",
    "    pdf.set_font('Helvetica', '', 14)\n",
    "    pdf.set_text_color(r=128, g=128, b=128)\n",
    "    today = time.strftime(\"%d/%m/%Y\")\n",
    "    pdf.write(4, f'{today}')\n",
    "\n",
    "    # Add line break\n",
    "    pdf.ln(10)\n",
    "\n",
    "# Função para o texto\n",
    "def texto(pdf, txt):\n",
    "\n",
    "    # Ajustando cor de texto, fonte e espaçamento\n",
    "    pdf.set_text_color(0)\n",
    "    pdf.set_font('Helvetica', '', 12)\n",
    "\n",
    "    pdf.write(5, txt)"
   ]
  },
  {
   "cell_type": "code",
   "execution_count": 22,
   "metadata": {},
   "outputs": [
    {
     "data": {
      "text/plain": [
       "''"
      ]
     },
     "execution_count": 22,
     "metadata": {},
     "output_type": "execute_result"
    }
   ],
   "source": [
    "# Variáveis globais\n",
    "WIDTH = 210\n",
    "HEIGHT = 297\n",
    "\n",
    "# Criando o documento PDF\n",
    "pdf = FPDF() # A4 (210 x 297 mm)\n",
    "\n",
    "### Página 1 \n",
    "pdf.add_page()\n",
    "\n",
    "# Título\n",
    "titulo(pdf, \"Relatório do Desempenho de Vendas (2023)\")\n",
    "\n",
    "# Título da tabela\n",
    "texto(pdf, \"1. Tabela das Vendas por mês da empresa em 2023\")\n",
    "pdf.ln(10)\n",
    "\n",
    "# Adicionando a tabela de vendas\n",
    "pdf.image(\"tab_vendas_por_mes.png\", WIDTH/2 - 20, w=40)\n",
    "pdf.ln(20)\n",
    "\n",
    "# Adicionando o gráfico de vendas\n",
    "pdf.image(\"vendas_por_mes.png\", 10, 150, WIDTH - 20)\n",
    "pdf.ln(90)\n",
    "\n",
    "# Texto explicativo\n",
    "texto(pdf, \"A visualização acima mostra a tendência das vendas da empresa durante o ano de 2023. Conseguimos notar \" \\\n",
    "           \"que em 5 meses no ano as vendas foram acima de 600 mil reais. Julho foi o mês com menor desempenho.\")\n",
    "\n",
    "\n",
    "### Página 2 ###\n",
    "pdf.add_page()\n",
    "\n",
    "# Título da tabela 2\n",
    "pdf.ln(20)\n",
    "texto(pdf, \"2. Tabela dos Lucros por Departamento em 2023\")\n",
    "pdf.ln(10)\n",
    "\n",
    "# Adicionando a tabela de lucro\n",
    "pdf.image(\"tab_lucro_dpt.png\", WIDTH/2 - 40, w=80)\n",
    "pdf.ln(20)\n",
    "\n",
    "# Adicionando o gráfico de lucro\n",
    "pdf.image(\"lucro_departamento.png\", 10, WIDTH/2, WIDTH - 20)\n",
    "pdf.ln(120)\n",
    "\n",
    "# Texto explicativo\n",
    "texto(pdf, \"O departamento que apresenta o maior lucro da empresa é o Automotivo. O resultado é esperado, visto que grande\" \\\n",
    "           \"parte dos produtos automotivos estão entre os mais caros por unidade. Na sequência temos os produtos de Jardinagem e\" \\\n",
    "           \"paisagismo, por fim, os materiais de construção com menos de R$ 30 mil de lucro em 2023.\")\n",
    "\n",
    "### Página 3 ###\n",
    "pdf.add_page()\n",
    "\n",
    "# Título da tabela 3\n",
    "pdf.ln(20)\n",
    "texto(pdf, \"3. Tabela da quantidade de produtos por Modo de Envio em Pernambuco (2023)\")\n",
    "pdf.ln(10)\n",
    "\n",
    "# Adicionando a tabela de modo de envio\n",
    "pdf.image(\"tab_envios_pe.png\", WIDTH/2 - 40, w=60)\n",
    "pdf.ln(20)\n",
    "\n",
    "# Adicionando o gráfico de modo de envio\n",
    "pdf.image(\"envios_pernambuco.png\", 10, WIDTH/2, WIDTH - 20)\n",
    "pdf.ln(120)\n",
    "\n",
    "# Texto explicativo\n",
    "texto(pdf, \"O modo de envio mais utilizado de forma disparada é a Entrega Padrão, corrrespondendo a quase 67% de todas as entregas em\" \\\n",
    "           \"Pernambuco. Em seguida, temos a Envio rápido e Econômica e, por último, a de 24 horas com menos de 5% de entregas no estado.\")\n",
    "\n",
    "# Gerando o PDF\n",
    "pdf.output(\"Relatório 2023.pdf\", 'F')"
   ]
  }
 ],
 "metadata": {
  "kernelspec": {
   "display_name": "Python 3",
   "language": "python",
   "name": "python3"
  },
  "language_info": {
   "codemirror_mode": {
    "name": "ipython",
    "version": 3
   },
   "file_extension": ".py",
   "mimetype": "text/x-python",
   "name": "python",
   "nbconvert_exporter": "python",
   "pygments_lexer": "ipython3",
   "version": "3.13.0"
  }
 },
 "nbformat": 4,
 "nbformat_minor": 2
}

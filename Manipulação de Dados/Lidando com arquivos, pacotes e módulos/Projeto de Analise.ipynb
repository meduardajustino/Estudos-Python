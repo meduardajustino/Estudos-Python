import matplotlib.pyplot as plt
import numpy as np

# Valores de q
q = np.linspace(0, 100, 200)

# Funções
CT = 0.1 * q**2 + 10 * q + 50
RT = 20 * q
pi = 20 * q - CT
CMg = 0.2 * q + 10
RMg = 20 * np.ones_like(q)

# Plotando as funções
plt.figure(figsize=(10, 6))
plt.plot(q, RT, label='Receita Total (RT)', color='green')
plt.plot(q, CT, label='Custo Total (CT)', color='red')
plt.plot(q, CMg, label='Custo Marginal (CMg)', linestyle='--', color='blue')
plt.plot(q, RMg, label='Receita Marginal (RMg)', linestyle='--', color='orange')
plt.axvline(x=50, linestyle='--', color='grey', label='Quantidade Ótima (q=50)')
plt.axhline(y=200, linestyle='--', color='purple', label='Lucro Máximo ($200)')
plt.xlabel('Quantidade (q)')
plt.ylabel('Dólares ($)')
plt.title('Maximização de Lucro de John\'s Lawns Mowing Service')
plt.legend()
plt.grid(True)
plt.show()

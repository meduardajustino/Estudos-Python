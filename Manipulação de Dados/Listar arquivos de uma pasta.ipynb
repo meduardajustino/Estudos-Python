{
 "cells": [
  {
   "cell_type": "code",
   "execution_count": 1,
   "metadata": {},
   "outputs": [
    {
     "name": "stdout",
     "output_type": "stream",
     "text": [
      "2019.pdf\n",
      "2020.pdf\n",
      "2022.pdf\n",
      "2023.pdf\n",
      "2021.pdf\n",
      "merge.pdf\n"
     ]
    }
   ],
   "source": [
    "# Lista com arquivos dentro de uma pasta\n",
    "import os\n",
    "\n",
    "caminho = r\"M:\\Maria Eduarda\\Downloads\\3R Petroleum Oleo e Gas SA\"\n",
    "\n",
    "# lista os arquivos no diretório\n",
    "arquivos = os.listdir(caminho)\n",
    "\n",
    "for arquivo in arquivos:\n",
    "    print(arquivo)"
   ]
  },
  {
   "cell_type": "markdown",
   "metadata": {},
   "source": [
    "### Forma alternativa\n",
    "\n"
   ]
  },
  {
   "cell_type": "code",
   "execution_count": 8,
   "metadata": {},
   "outputs": [
    {
     "name": "stdout",
     "output_type": "stream",
     "text": [
      "['2019.pdf', '2020.pdf', '2022.pdf', '2023.pdf', '2021.pdf']\n",
      "M:\\Maria Eduarda\\Downloads\\3R Petroleum Oleo e Gas SA 2019.pdf\n",
      "M:\\Maria Eduarda\\Downloads\\3R Petroleum Oleo e Gas SA 2020.pdf\n",
      "M:\\Maria Eduarda\\Downloads\\3R Petroleum Oleo e Gas SA 2022.pdf\n",
      "M:\\Maria Eduarda\\Downloads\\3R Petroleum Oleo e Gas SA 2023.pdf\n",
      "M:\\Maria Eduarda\\Downloads\\3R Petroleum Oleo e Gas SA 2021.pdf\n"
     ]
    }
   ],
   "source": [
    "import os\n",
    "\n",
    "origem = r\"M:\\Maria Eduarda\\Downloads\\3R Petroleum Oleo e Gas SA\"\n",
    "\n",
    "for caminho, subpasta, arquivos in os.walk(origem):\n",
    "    print(arquivos)\n",
    "    \n",
    "for caminho, subpasta, arquivos in os.walk(origem):\n",
    "    for nome in arquivos:\n",
    "        print(caminho, nome)"
   ]
  }
 ],
 "metadata": {
  "kernelspec": {
   "display_name": "Python 3",
   "language": "python",
   "name": "python3"
  },
  "language_info": {
   "codemirror_mode": {
    "name": "ipython",
    "version": 3
   },
   "file_extension": ".py",
   "mimetype": "text/x-python",
   "name": "python",
   "nbconvert_exporter": "python",
   "pygments_lexer": "ipython3",
   "version": "3.13.0"
  }
 },
 "nbformat": 4,
 "nbformat_minor": 2
}

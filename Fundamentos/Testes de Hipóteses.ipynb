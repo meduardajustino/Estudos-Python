{
  "nbformat": 4,
  "nbformat_minor": 0,
  "metadata": {
    "colab": {
      "provenance": []
    },
    "kernelspec": {
      "name": "python3",
      "display_name": "Python 3"
    },
    "language_info": {
      "name": "python"
    }
  },
  "cells": [
    {
      "cell_type": "markdown",
      "source": [
        "## Atividade para casa de estatística II - Semana 10"
      ],
      "metadata": {
        "id": "eFDm96uAnsvE"
      }
    },
    {
      "cell_type": "markdown",
      "source": [
        "###Exercício 1:\n",
        "\n",
        "Um nutricionista quer testar se a ingestão diária média de calorias de um grupo de 30 pessoas é diferente de 2000 calorias. Os dados das calorias ingeridas são fornecidos abaixo. Realize o teste de hipóteses usando um nível de significância de 0,05.\n",
        "\n",
        "Dados: [1900, 2100, 2050, 1980, 1950, 2100, 2000, 2150, 2200, 1850, 1990, 1950, 2050, 2080, 2100, 1900, 1950, 2050, 2150, 2000, 2200, 1900, 2100, 2000, 2150, 1850, 1990, 1950, 2050, 2080]"
      ],
      "metadata": {
        "id": "Ni4hTd6Sn-44"
      }
    },
    {
      "cell_type": "code",
      "source": [
        "# Instalar biblioteca necessária\n",
        "!pip install scipy"
      ],
      "metadata": {
        "colab": {
          "base_uri": "https://localhost:8080/"
        },
        "id": "k5lBZmY0srRx",
        "outputId": "690bccaa-2a8b-4268-a4ae-03ff0aee843b"
      },
      "execution_count": null,
      "outputs": [
        {
          "output_type": "stream",
          "name": "stdout",
          "text": [
            "Requirement already satisfied: scipy in /usr/local/lib/python3.10/dist-packages (1.13.1)\n",
            "Requirement already satisfied: numpy<2.3,>=1.22.4 in /usr/local/lib/python3.10/dist-packages (from scipy) (1.26.4)\n"
          ]
        }
      ]
    },
    {
      "cell_type": "code",
      "source": [
        "# Teste t de student\n",
        "\n",
        "from scipy.stats import ttest_1samp\n",
        "\n",
        "calorias = [1900, 2100, 2050, 1980, 1950, 2100, 2000, 2150, 2200, 1850, 1990, 1950, 2050, 2080, 2100,\n",
        "            1900, 1950, 2050, 2150, 2000, 2200, 1900, 2100, 2000, 2150, 1850, 1990, 1950, 2050, 2080]\n",
        "\n",
        "estatistica, p_valor = ttest_1samp(calorias, 2000)\n",
        "\n",
        "print(f\"Estatística t do estudo sobre a ingestão de calorias: {estatistica:.3f}\")\n",
        "print(f\"Valor p: {p_valor:.3f}\")\n",
        "\n",
        "#H0: A média é diferente de 2000 calorias.\n",
        "#H1: A média é igual a 2000 calorias.\n",
        "\n",
        "# Decisão\n",
        "significancia = 0.05\n",
        "if p_valor < significancia:\n",
        "    print(\"Hipótese Nula(H0) é imválida. A média é muito próxima de 2000 calorias.\")\n",
        "else:\n",
        "    print(\"Hipótese Nula(H0) é aceita. A média é diferente consideravelmente de 2000 calorias.\")\n",
        "\n"
      ],
      "metadata": {
        "colab": {
          "base_uri": "https://localhost:8080/"
        },
        "id": "4VA4Eo8npJ7m",
        "outputId": "420d423c-ebce-4ec0-e5d4-08d44b3f5baa"
      },
      "execution_count": null,
      "outputs": [
        {
          "output_type": "stream",
          "name": "stdout",
          "text": [
            "Estatística t do estudo sobre a ingestão de calorias: 1.441\n",
            "Valor p: 0.160\n",
            "Hipótese Nula(H0) é aceita. A média é diferente consideravelmente de 2000 calorias.\n"
          ]
        }
      ]
    },
    {
      "cell_type": "markdown",
      "source": [
        "###Exercício 2:\n",
        "Um pesquisador deseja verificar se há uma diferença significativa entre as notas de alunos de duas turmas diferentes após um novo método de ensino. As notas das duas turmas são:\n",
        "\n",
        "Turma A: [85, 78, 90, 88, 76, 95, 89, 84] Turma B: [82, 75, 85, 80, 79, 88, 83, 77]\n",
        "\n",
        "Realize o teste de hipóteses para comparar as médias das duas turmas usando um nível de significância de 0,05."
      ],
      "metadata": {
        "id": "Tegw65lsoRhf"
      }
    },
    {
      "cell_type": "code",
      "source": [
        "# Teste t de student\n",
        "\n",
        "from scipy.stats import ttest_ind\n",
        "\n",
        "turma_a = [85, 78, 90, 88, 76, 95, 89, 84]\n",
        "turma_b = [82, 75, 85, 80, 79, 88, 83, 77]\n",
        "\n",
        "#H0: As médias das duas turmas são iguais.\n",
        "#H1: As médias das duas turmas são diferentes.\n",
        "\n",
        "estatistica, p_valor = ttest_ind(turma_a, turma_b)\n",
        "\n",
        "print(f\"Estatística t: {estatistica:.3f}\")\n",
        "print(f\"Valor p: {p_valor:.3f}\")\n",
        "\n",
        "significancia = 0.05\n",
        "if p_valor < significancia:\n",
        "    print(\"Hipótese Nula(H0) é imválida. As médias das duas turmas são diferentes.\")\n",
        "else:\n",
        "    print(\"Hipótese Nula(H0) é aceita. As médias das duas turmas são iguais.\")"
      ],
      "metadata": {
        "colab": {
          "base_uri": "https://localhost:8080/"
        },
        "id": "v9KhTQ3UpKHT",
        "outputId": "2f8e2b6d-5300-490d-f468-8aa811be7e54"
      },
      "execution_count": null,
      "outputs": [
        {
          "output_type": "stream",
          "name": "stdout",
          "text": [
            "Estatística t: 1.674\n",
            "Valor p: 0.116\n",
            "Hipótese Nula(H0) é aceita. As médias das duas turmas são iguais.\n"
          ]
        }
      ]
    },
    {
      "cell_type": "markdown",
      "source": [
        "###Exercício 3:\n",
        "Uma empresa testou a eficácia de um novo software em dois períodos de tempo. Os tempos (em minutos) para concluir uma tarefa antes e depois do uso do software são registrados abaixo. Determine se houve uma melhoria significativa no tempo de conclusão da tarefa.\n",
        "\n",
        "Antes: [30, 28, 35, 33, 40, 29, 32, 36] Depois: [25, 22, 30, 28, 35, 27, 30, 31]"
      ],
      "metadata": {
        "id": "Bc5UKl4GoR-x"
      }
    },
    {
      "cell_type": "code",
      "source": [
        "# Teste t de student\n",
        "from scipy.stats import ttest_rel\n",
        "\n",
        "antes = [30, 28, 35, 33, 40, 29, 32, 36]\n",
        "depois = [25, 22, 30, 28, 35, 27, 30, 31]\n",
        "\n",
        "#H0: O tempo após o uso do software é significativamente menor.\n",
        "#H1: Não há diferença significativa no tempo de conclusão da tarefa antes e depois do uso do software.\n",
        "\n",
        "estatistica, p_valor = ttest_rel(antes, depois)\n",
        "\n",
        "print(f\"Estatística t: {estatistica:.3f}\")\n",
        "print(f\"Valor p: {p_valor:.3f}\")\n",
        "\n",
        "significancia = 0.05\n",
        "if p_valor < significancia:\n",
        "    print(\"Hipótese Nula(H0) é rejeitada. Não há diferença significativa no tempo de conclusão da tarefa.\")\n",
        "else:\n",
        "    print(\"Hipótese Nula(H0) é aceita. O tempo após o uso do software é significativamente menor.\")\n"
      ],
      "metadata": {
        "colab": {
          "base_uri": "https://localhost:8080/"
        },
        "id": "cjAxkgsYvTX-",
        "outputId": "ac3b79aa-d4d2-4023-e026-43e0e0e070cf"
      },
      "execution_count": null,
      "outputs": [
        {
          "output_type": "stream",
          "name": "stdout",
          "text": [
            "Estatística t: 8.217\n",
            "Valor p: 0.000\n",
            "Hipótese Nula(H0) é rejeitada. Não há diferença significativa no tempo de conclusão da tarefa.\n"
          ]
        }
      ]
    },
    {
      "cell_type": "markdown",
      "source": [
        "###Exercício 4:\n",
        "\n",
        "Uma pesquisa foi realizada para verificar a preferência de 100 pessoas por dois tipos de bebidas, A e B, em duas cidades diferentes, X e Y. A tabela de contingência a seguir mostra os resultados:\n",
        "\n",
        "Cidade X Cidade Y Bebida A 30 40 Bebida B 20 10\n",
        "\n",
        "Verifique se há uma relação significativa entre a cidade e a preferência pela bebida.\n"
      ],
      "metadata": {
        "id": "TncqboYSoSL1"
      }
    },
    {
      "cell_type": "code",
      "execution_count": null,
      "metadata": {
        "colab": {
          "base_uri": "https://localhost:8080/"
        },
        "id": "jiPncQv9mwNt",
        "outputId": "0efecd98-c1d4-4889-e9cb-3c1606018ee1"
      },
      "outputs": [
        {
          "output_type": "stream",
          "name": "stdout",
          "text": [
            "A estatística é: 3.857\n",
            "Valor p: 0.050\n",
            "Hípotese Nula rejeitada, não há relação entre a cidade e a preferência pela bebida.\n"
          ]
        }
      ],
      "source": [
        "#Teste Qui-Quadrado\n",
        "\n",
        "import numpy as np\n",
        "from scipy.stats import chi2_contingency\n",
        "preferencias_bebidas = np.array([[30, 40],\n",
        "                  [20, 10]])\n",
        "\n",
        "# H0: Não há relação significativa entre a cidade e a preferência pela bebida.\n",
        "# H1: Há uma relação significativa entre a cidade e a preferência pela bebida.\n",
        "\n",
        "estatistica, p_valor, grau_de_liberdade, matriz_frequencia = chi2_contingency(preferencias_bebidas)\n",
        "\n",
        "print(f\"A estatística é: {estatistica:.3f}\")\n",
        "print(f\"Valor p: {p_valor:.3f}\")\n",
        "\n",
        "significancia = 0.05\n",
        "if p_valor < significancia:\n",
        "  print(\"Hípotese Nula rejeitada, não há relação entre a cidade e a preferência pela bebida.\")\n",
        "else:\n",
        "  print(\"Hípotese Nula aceita, há relação entre a cidade e a preferência pela bebida.\")"
      ]
    },
    {
      "cell_type": "markdown",
      "source": [
        "###Exercício 5:\n",
        "\n",
        "Um pesquisador deseja testar se três diferentes tipos de fertilizantes têm um efeito significativo no crescimento de plantas. Os crescimentos das plantas (em cm) para cada fertilizante são dados abaixo:\n",
        "\n",
        "Fertilizante A: [20, 22, 19, 21, 20] Fertilizante B: [18, 20, 17, 19, 18] Fertilizante C: [25, 27, 26, 28, 26] Realize uma ANOVA de uma via para verificar se há uma diferença significativa entre os grupos."
      ],
      "metadata": {
        "id": "w9vbIoRbn-0z"
      }
    },
    {
      "cell_type": "code",
      "source": [
        "# ANOVA\n",
        "from scipy.stats import f_oneway\n",
        "\n",
        "fertilizante_a = [20, 22, 19, 21, 20]\n",
        "fertilizante_b = [18, 20, 17, 19, 18]\n",
        "fertilizante_c = [25, 27, 26, 28, 26]\n",
        "\n",
        "#H0: As médias dos crescimentos são iguais.\n",
        "#H1: Pelo menos uma média de crescimento é diferente.\n",
        "\n",
        "estatistica, p_valor = f_oneway(fertilizante_a, fertilizante_b, fertilizante_c)\n",
        "\n",
        "print(f\"Estatística f: {estatistica:.3f}\")\n",
        "print(f\"Valor p: {p_valor:.3f}\")\n",
        "\n",
        "significancia = 0.05\n",
        "if p_valor < significancia:\n",
        "    print(\"Rejeita-se H0: Pelo menos uma das médias de crescimento é significativamente diferente.\")\n",
        "else:\n",
        "    print(\"Não se rejeita H0: Não há evidência suficiente para afirmar que as médias de crescimento são diferentes.\")\n",
        "\n"
      ],
      "metadata": {
        "colab": {
          "base_uri": "https://localhost:8080/"
        },
        "id": "nKnGoL1rylL4",
        "outputId": "7bba2dc2-269b-4b5c-bfd9-d93705fdcc02"
      },
      "execution_count": null,
      "outputs": [
        {
          "output_type": "stream",
          "name": "stdout",
          "text": [
            "Estatística f: 66.667\n",
            "Valor p: 0.000\n",
            "Rejeita-se H0: Pelo menos uma das médias de crescimento é significativamente diferente.\n"
          ]
        }
      ]
    },
    {
      "cell_type": "markdown",
      "source": [
        "##Exercícios extras"
      ],
      "metadata": {
        "id": "bidtamXqo2FF"
      }
    },
    {
      "cell_type": "markdown",
      "source": [
        "###Exercício 1:\n",
        "Um estudo está sendo realizado para comparar o efeito de três métodos diferentes de estudo na performance dos alunos em um exame. As pontuações dos alunos são registradas para cada método:\n",
        "\n",
        "Método A: [85, 87, 90, 86, 88] Método B: [80, 82, 78, 81, 79] Método C: [92, 91, 93, 89, 94] Use ANOVA de uma via para determinar se existe uma diferença significativa nas pontuações dos alunos entre os três métodos.\n",
        "\n",
        "###Exercício 2:\n",
        "Uma empresa deseja realizar uma pesquisa de satisfação com seus clientes. A população de clientes é dividida em três categorias: Regular, Premium e VIP. A empresa quer garantir que cada categoria seja representada proporcionalmente na amostra. A população total é de 10.000 clientes, sendo 5.000 regulares, 3.000 premium, e 2.000 VIP. Se a amostra total deve ser de 500 clientes, quantos clientes de cada categoria devem ser incluídos na amostra?\n",
        "\n",
        "###Exercício 3:\n",
        "Uma empresa registrou o tempo (em horas) que seus funcionários gastam em atividades não relacionadas ao trabalho durante uma semana. Os tempos registrados foram: [1.5, 2.0, 1.0, 2.5, 3.0, 2.0, 1.5, 2.5, 3.5, 4.0]. Calcule o desvio padrão desses tempos."
      ],
      "metadata": {
        "id": "Sj8YgO6ro6hB"
      }
    },
    {
      "cell_type": "code",
      "source": [
        "# Exercício 1: ANOVA de uma via\n",
        "\n",
        "from scipy.stats import f_oneway\n",
        "\n",
        "metodo_a = [85, 87, 90, 86, 88]\n",
        "metodo_b = [80, 82, 78, 81, 79]\n",
        "metodo_c = [92, 91, 93, 89, 94]\n",
        "\n",
        "#H0: Existe uma diferença significativa nas pontuações dos alunos entre os três métodos.\n",
        "#H1: Não existe uma diferença significativa nas pontuações dos alunos entre os três métodos.\n",
        "estatistica, p_valor = f_oneway(metodo_a, metodo_b, metodo_c)\n",
        "\n",
        "print(f\"Estatística F: {estatistica:.2f}\")\n",
        "print(f\"Valor p: {p_valor:.3f}\")\n",
        "\n",
        "# Decisão\n",
        "significancia = 0.05\n",
        "if p_valor < significancia:\n",
        "    print(\"Rejeita-se H0: Há uma diferença significativa nas pontuações entre os métodos de estudo.\")\n",
        "else:\n",
        "    print(\"Não se rejeita H0: Não há evidência suficiente para afirmar que há diferença significativa nas pontuações.\")\n"
      ],
      "metadata": {
        "colab": {
          "base_uri": "https://localhost:8080/"
        },
        "id": "W7g5yEZxz69o",
        "outputId": "181e2cdf-49b8-4627-c51c-8715e3523add"
      },
      "execution_count": null,
      "outputs": [
        {
          "output_type": "stream",
          "name": "stdout",
          "text": [
            "Estatística F: 53.60\n",
            "Valor p: 0.000\n",
            "Rejeita-se H0: Há uma diferença significativa nas pontuações entre os métodos de estudo.\n"
          ]
        }
      ]
    },
    {
      "cell_type": "code",
      "source": [
        "# Exercício 2: Amostragem\n",
        "populacao_total = 10000\n",
        "regulares = 5000\n",
        "premium = 3000\n",
        "vip = 2000\n",
        "\n",
        "tamanho_amostra = 500\n",
        "\n",
        "# Cálculo da amostra proporcional\n",
        "amostra_regulares = (regulares / populacao_total) * tamanho_amostra\n",
        "amostra_premium = (premium / populacao_total) * tamanho_amostra\n",
        "amostra_vip = (vip / populacao_total) * tamanho_amostra\n",
        "\n",
        "print(f\"Clientes Regulares na amostra: {amostra_regulares:.0f}\")\n",
        "print(f\"Clientes Premium na amostra: {amostra_premium:.0f}\")\n",
        "print(f\"Clientes VIP na amostra: {amostra_vip:.0f}\")\n"
      ],
      "metadata": {
        "colab": {
          "base_uri": "https://localhost:8080/"
        },
        "id": "a0VoWgKj0l0y",
        "outputId": "d1879f04-ed44-4c8a-b730-5263025d57fd"
      },
      "execution_count": null,
      "outputs": [
        {
          "output_type": "stream",
          "name": "stdout",
          "text": [
            "Clientes Regulares na amostra: 250\n",
            "Clientes Premium na amostra: 150\n",
            "Clientes VIP na amostra: 100\n"
          ]
        }
      ]
    },
    {
      "cell_type": "code",
      "source": [
        "# Exercício 3: Desvio Padrão\n",
        "\n",
        "import numpy as np\n",
        "\n",
        "tempos = [1.5, 2.0, 1.0, 2.5, 3.0, 2.0, 1.5, 2.5, 3.5, 4.0]\n",
        "\n",
        "desvio_padrao = np.std(tempos, ddof=0)  # ddof=0 para a pop inteira\n",
        "\n",
        "print(f\"Desvio Padrão é de {desvio_padrao:.3f} horas\")\n"
      ],
      "metadata": {
        "colab": {
          "base_uri": "https://localhost:8080/"
        },
        "id": "fiVl1cg21CjF",
        "outputId": "c917f5f5-140e-4a64-dd40-c3edfebadc50"
      },
      "execution_count": null,
      "outputs": [
        {
          "output_type": "stream",
          "name": "stdout",
          "text": [
            "Desvio Padrão é de 0.896 horas\n"
          ]
        }
      ]
    }
  ]
}
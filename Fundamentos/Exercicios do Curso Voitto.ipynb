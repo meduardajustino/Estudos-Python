{
 "cells": [
  {
   "cell_type": "markdown",
   "metadata": {
    "colab_type": "text",
    "id": "sDO_P7ciDAMV"
   },
   "source": [
    "## 10. Aplicando e adquirindo conhecimentos"
   ]
  },
  {
   "cell_type": "markdown",
   "metadata": {
    "colab_type": "text",
    "id": "T3_UNsQ0LB1W"
   },
   "source": [
    "## Exercício 1"
   ]
  },
  {
   "cell_type": "markdown",
   "metadata": {
    "colab_type": "text",
    "id": "CFwtO8v0DVNB"
   },
   "source": [
    "### Questao 1\n",
    "\n",
    "*   Crie uma **lista** usando o **for** que armazene apenas os quadrados dos números pares de 1 a 10.\n",
    "\n"
   ]
  },
  {
   "cell_type": "code",
   "execution_count": 123,
   "metadata": {
    "colab": {},
    "colab_type": "code",
    "id": "0kl2pmuzDLPY"
   },
   "outputs": [
    {
     "data": {
      "text/plain": [
       "[4, 16, 36, 64, 100]"
      ]
     },
     "execution_count": 123,
     "metadata": {},
     "output_type": "execute_result"
    }
   ],
   "source": [
    "num_quadrado = []\n",
    "\n",
    "for i in range(1, 11):\n",
    "    if i % 2 == 0:\n",
    "        num_quadrado.append(i**2)\n",
    "\n",
    "num_quadrado\n",
    "\n"
   ]
  },
  {
   "cell_type": "markdown",
   "metadata": {
    "colab_type": "text",
    "id": "IcxMTPRqW_hk"
   },
   "source": [
    "\n",
    "\n",
    "*   Para o mesmo problema, faça usando o **list comprehension**\n",
    "\n"
   ]
  },
  {
   "cell_type": "code",
   "execution_count": 124,
   "metadata": {
    "colab": {
     "base_uri": "https://localhost:8080/",
     "height": 34
    },
    "colab_type": "code",
    "id": "nD9YsFTnDTDG",
    "outputId": "90c2ab2a-c766-40c7-febe-35979033a681"
   },
   "outputs": [
    {
     "data": {
      "text/plain": [
       "[4, 16, 36, 64, 100]"
      ]
     },
     "execution_count": 124,
     "metadata": {},
     "output_type": "execute_result"
    }
   ],
   "source": [
    "num_quadrado_list = [ i**2 for i in range(1,11) if i%2 == 0]\n",
    "num_quadrado_list"
   ]
  },
  {
   "cell_type": "markdown",
   "metadata": {
    "colab_type": "text",
    "id": "L5x-YBL4HL9M"
   },
   "source": [
    "### Questão 2:"
   ]
  },
  {
   "cell_type": "markdown",
   "metadata": {
    "colab_type": "text",
    "id": "n4SNnGViYAqN"
   },
   "source": [
    "Crie uma função **def** que receba como parâmetros: \n",
    "\n",
    "*   uma **lista** de 10 números de 10 a 20\n",
    "*   uma função **lambda** que calcula a raiz quadrada.\n",
    "\n",
    "Por fim, a função **def** deve retornar uma lista com os resultados das raízes de cada um dos números da lista passada por parâmetro."
   ]
  },
  {
   "cell_type": "code",
   "execution_count": 125,
   "metadata": {
    "colab": {},
    "colab_type": "code",
    "id": "La83TMQtIMyd"
   },
   "outputs": [
    {
     "data": {
      "text/plain": [
       "[3.1622776601683795,\n",
       " 3.3166247903554,\n",
       " 3.4641016151377544,\n",
       " 3.605551275463989,\n",
       " 3.7416573867739413,\n",
       " 3.872983346207417,\n",
       " 4.0,\n",
       " 4.123105625617661,\n",
       " 4.242640687119285,\n",
       " 4.358898943540674,\n",
       " 4.47213595499958]"
      ]
     },
     "execution_count": 125,
     "metadata": {},
     "output_type": "execute_result"
    }
   ],
   "source": [
    "calcular_raiz = lambda x: x**(1/2)\n",
    "\n",
    "lista = list(range(10,21))\n",
    "\n",
    "def raiz_quadrada(lista, f):\n",
    "    resultado = []\n",
    "    for i in lista:\n",
    "        resultado.append(f(i))\n",
    "    return resultado\n",
    "\n",
    "raiz_quadrada(lista, calcular_raiz)"
   ]
  },
  {
   "cell_type": "markdown",
   "metadata": {
    "colab_type": "text",
    "id": "OkIv9aiFKTip"
   },
   "source": [
    "Perceba que não importa o tipo de função que é passada como parâmetro. \n",
    "\n",
    "Pode ser um **lambda**, **def** ou uma funcao de alguma biblioteca, desde que essa tenha a mesma assinatura (ex. mesmo número de parâmetros). \n"
   ]
  },
  {
   "cell_type": "markdown",
   "metadata": {
    "colab_type": "text",
    "id": "pXzsASFlzQv-"
   },
   "source": [
    "**Soluções Alternativas**  "
   ]
  },
  {
   "cell_type": "code",
   "execution_count": 126,
   "metadata": {
    "colab": {},
    "colab_type": "code",
    "id": "TNxVSvRkIA7e"
   },
   "outputs": [
    {
     "data": {
      "text/plain": [
       "[3.1622776601683795,\n",
       " 3.3166247903554,\n",
       " 3.4641016151377544,\n",
       " 3.605551275463989,\n",
       " 3.7416573867739413,\n",
       " 3.872983346207417,\n",
       " 4.0,\n",
       " 4.123105625617661,\n",
       " 4.242640687119285,\n",
       " 4.358898943540674,\n",
       " 4.47213595499958]"
      ]
     },
     "execution_count": 126,
     "metadata": {},
     "output_type": "execute_result"
    }
   ],
   "source": [
    "# Solução usando List comprehension\n",
    "def raizes_lc(x, func):\n",
    "    return [func(i) for i in x]\n",
    "\n",
    "def raiz_quad(x):\n",
    "    return x**0.5\n",
    "\n",
    "r2 = raizes_lc(lista, raiz_quad)\n",
    "r2"
   ]
  },
  {
   "cell_type": "code",
   "execution_count": 127,
   "metadata": {
    "colab": {
     "base_uri": "https://localhost:8080/",
     "height": 34
    },
    "colab_type": "code",
    "id": "r0WFtx6RI38V",
    "outputId": "3537e49c-d2ce-410e-c818-3a8b6bff331c"
   },
   "outputs": [
    {
     "data": {
      "text/plain": [
       "[3.1622776601683795,\n",
       " 3.3166247903554,\n",
       " 3.4641016151377544,\n",
       " 3.605551275463989,\n",
       " 3.7416573867739413,\n",
       " 3.872983346207417,\n",
       " 4.0,\n",
       " 4.123105625617661,\n",
       " 4.242640687119285,\n",
       " 4.358898943540674,\n",
       " 4.47213595499958]"
      ]
     },
     "execution_count": 127,
     "metadata": {},
     "output_type": "execute_result"
    }
   ],
   "source": [
    "import math\n",
    "r3 = raizes_lc(range(10,21), math.sqrt)\n",
    "r3"
   ]
  },
  {
   "cell_type": "markdown",
   "metadata": {
    "colab_type": "text",
    "id": "p3xr0QmG03sK"
   },
   "source": [
    "Para facilitar a sua visualização, você poderia pensar em criar um dicionário no interior da função **def**.\n",
    "\n",
    "Depois, retornar esse dicionário. "
   ]
  },
  {
   "cell_type": "code",
   "execution_count": 128,
   "metadata": {
    "colab": {},
    "colab_type": "code",
    "id": "-Q-YScihJQQ5"
   },
   "outputs": [
    {
     "data": {
      "text/plain": [
       "{10: 3.1622776601683795,\n",
       " 11: 3.3166247903554,\n",
       " 12: 3.4641016151377544,\n",
       " 13: 3.605551275463989,\n",
       " 14: 3.7416573867739413,\n",
       " 15: 3.872983346207417,\n",
       " 16: 4.0,\n",
       " 17: 4.123105625617661,\n",
       " 18: 4.242640687119285,\n",
       " 19: 4.358898943540674,\n",
       " 20: 4.47213595499958}"
      ]
     },
     "execution_count": 128,
     "metadata": {},
     "output_type": "execute_result"
    }
   ],
   "source": [
    "def raizes_dc(numeros, f):\n",
    "    num_raizes = {}\n",
    "    for i in numeros:\n",
    "        num_raizes[i] = f(i)\n",
    "    return num_raizes\n",
    "\n",
    "dicionario = raizes_dc(list(range(10,21)), math.sqrt)\n",
    "dicionario"
   ]
  },
  {
   "cell_type": "markdown",
   "metadata": {
    "colab_type": "text",
    "id": "aDy0Kbf0ISeS"
   },
   "source": [
    "### Questão 3: "
   ]
  },
  {
   "cell_type": "markdown",
   "metadata": {
    "colab_type": "text",
    "id": "zhyN71WOY_xp"
   },
   "source": [
    "*   Escreva uma função **def** que receba como parâmetro o início e o fim de um intervalo e crie uma lista com os valores dentro desse intervalo (incluindo o valor final). \n",
    "\n",
    "*   Dentro dessa mesma função **def** crie outra lista contendo os quadrados dos valores da primeira lista. \n",
    "\n",
    "*   Retorne essas duas listas.\n",
    "\n",
    "\n"
   ]
  },
  {
   "cell_type": "code",
   "execution_count": 129,
   "metadata": {
    "colab": {},
    "colab_type": "code",
    "id": "ct36wACII176"
   },
   "outputs": [],
   "source": [
    "def quadrado (x,y):\n",
    "    numeros = list(range(x,y+1))\n",
    "    lista_quadrados = []\n",
    "    for i in numeros:\n",
    "        lista_quadrados.append(i**2)\n",
    "    return numeros, lista_quadrados"
   ]
  },
  {
   "cell_type": "code",
   "execution_count": 130,
   "metadata": {
    "colab": {
     "base_uri": "https://localhost:8080/",
     "height": 34
    },
    "colab_type": "code",
    "id": "WaCQeYe5K7ra",
    "outputId": "901b3785-e68a-4fc5-d4b5-85afefdfd1d1"
   },
   "outputs": [
    {
     "data": {
      "text/plain": [
       "([8, 9, 10, 11, 12, 13, 14, 15, 16],\n",
       " [64, 81, 100, 121, 144, 169, 196, 225, 256])"
      ]
     },
     "execution_count": 130,
     "metadata": {},
     "output_type": "execute_result"
    }
   ],
   "source": [
    "quadrado(8, 16)"
   ]
  },
  {
   "cell_type": "markdown",
   "metadata": {
    "colab_type": "text",
    "id": "4gl7yZZwfaR_"
   },
   "source": [
    "\n",
    "*   Com as listas criadas anteriormente, crie um gráfico e veja como os dados da lista ficam distribuídos. \n",
    "\n",
    "*   Em seguida, save o gráfico criado"
   ]
  },
  {
   "cell_type": "markdown",
   "metadata": {
    "colab_type": "text",
    "id": "5HVIviSkI2sc"
   },
   "source": [
    "Para criar um gráfico siga as seguintes instruções:\n",
    "\n",
    "1. Importe a biblioteca **matplotlib** da seguinte forma: import matplotlib.pyplot as plt\n",
    "2. Digite a seguinte linha de comando a seguir: plt.plot(nome_da_lista1), plt.plot(nome_lista2) e, em baixo, plt.show()\n",
    "3. Para salvar a figura digite: plt.savefig(\"nome_da_figura.png\")\n",
    "\n",
    "Para mais informações acesse a [documentação oficial](https://matplotlib.org/tutorials/introductory/usage.html#sphx-glr-tutorials-introductory-usage-py)"
   ]
  },
  {
   "cell_type": "code",
   "execution_count": null,
   "metadata": {
    "colab": {},
    "colab_type": "code",
    "id": "qKfNqJbmK7dK"
   },
   "outputs": [],
   "source": [
    "import matplotlib.pyplot as plt\n",
    "\n",
    "listnumeros, listquadrados = quadrado(8, 16)\n",
    "\n",
    "plt.plot(listnumeros, listquadrados, color = 'pink', linewidth = 2)\n",
    "plt.xlabel(\"Números\")\n",
    "plt.ylabel(\"Quadrados\")\n",
    "plt.show"
   ]
  },
  {
   "cell_type": "code",
   "execution_count": 146,
   "metadata": {
    "colab": {
     "base_uri": "https://localhost:8080/",
     "height": 282
    },
    "colab_type": "code",
    "id": "6vBIV2frbrtJ",
    "outputId": "4b4101e0-0ed7-4cd7-dcd5-72543ae4e405"
   },
   "outputs": [
    {
     "data": {
      "text/plain": [
       "<function matplotlib.pyplot.show(close=None, block=None)>"
      ]
     },
     "execution_count": 146,
     "metadata": {},
     "output_type": "execute_result"
    },
    {
     "data": {
      "image/png": "[encoded data removed]",
      "text/plain": [
       "<Figure size 640x480 with 1 Axes>"
      ]
     },
     "metadata": {},
     "output_type": "display_data"
    }
   ],
   "source": [
    "plt.plot(listnumeros)\n",
    "plt.plot(listquadrados)\n",
    "plt.show"
   ]
  },
  {
   "cell_type": "markdown",
   "metadata": {
    "colab_type": "text",
    "id": "QeXp_hMwLEy4"
   },
   "source": [
    "## Exercíco 2"
   ]
  },
  {
   "cell_type": "markdown",
   "metadata": {
    "colab_type": "text",
    "id": "pIVhBA2TPA9l"
   },
   "source": [
    "### Questão 1: "
   ]
  },
  {
   "cell_type": "markdown",
   "metadata": {
    "colab_type": "text",
    "id": "cOAa6WpYcfIH"
   },
   "source": [
    "*   Crie uma lista de 30 valores aleatórios entre 1 e 50 usando a biblioteca **random** \n",
    "\n",
    "\n"
   ]
  },
  {
   "cell_type": "markdown",
   "metadata": {
    "colab_type": "text",
    "id": "m0EVuv6hJ6q-"
   },
   "source": [
    "Para criar uma lista de números aleatórios você poderá usar a biblioteca **random**. \n",
    "\n",
    "Para isso importe a biblioteca da seguinte forma: \n",
    "\n",
    "**import random** \n",
    "\n",
    "Em seguinda crie a lista usando a linha de comando **random.randint(inicio, final)** dentro da construção da lista. \n",
    "\n",
    "Exemplo:\n",
    "\n",
    "nome_da_lista = [random.randint(1, 10) for i in range(10)]\n",
    "\n",
    "Para mais informações sobre a biblioteca acesse a [documentação oficial](https://docs.python.org/3/library/random.html)"
   ]
  },
  {
   "cell_type": "code",
   "execution_count": 147,
   "metadata": {
    "colab": {},
    "colab_type": "code",
    "id": "m72yfgBrLGGo"
   },
   "outputs": [
    {
     "name": "stdout",
     "output_type": "stream",
     "text": [
      "[15, 5, 13, 37, 16, 29, 14, 2, 50, 37, 39, 34, 4, 44, 4, 8, 1, 43, 50, 40, 33, 40, 29, 33, 40, 30, 43, 23, 35, 19]\n"
     ]
    }
   ],
   "source": [
    "import random\n",
    "\n",
    "valores_aleatorios = [random.randint(1, 50) for i in range(30)]\n",
    "print(valores_aleatorios)"
   ]
  },
  {
   "cell_type": "markdown",
   "metadata": {
    "colab_type": "text",
    "id": "tBv00rm8cl4q"
   },
   "source": [
    "*   Crie uma cópia da lista criada acima\n",
    "\n",
    "Observação: Atribuir a lista antiga a uma nova variável **NÃO** é uma solução para esse problema de cópia. Vamos discutir isso a seguir.\n"
   ]
  },
  {
   "cell_type": "markdown",
   "metadata": {
    "colab_type": "text",
    "id": "rppNJ9Np8CSU"
   },
   "source": [
    "> * Usando **for** para copiar item a item"
   ]
  },
  {
   "cell_type": "code",
   "execution_count": 148,
   "metadata": {
    "colab": {
     "base_uri": "https://localhost:8080/",
     "height": 34
    },
    "colab_type": "code",
    "id": "Y1W55Bej3yuu",
    "outputId": "686e93c0-10d3-4b3a-92b4-6dfec64b1167"
   },
   "outputs": [
    {
     "name": "stdout",
     "output_type": "stream",
     "text": [
      "[15, 5, 13, 37, 16, 29, 14, 2, 50, 37, 39, 34, 4, 44, 4, 8, 1, 43, 50, 40, 33, 40, 29, 33, 40, 30, 43, 23, 35, 19]\n"
     ]
    }
   ],
   "source": [
    "copia_aleatorios = []\n",
    "\n",
    "for i in valores_aleatorios:\n",
    "    copia_aleatorios.append(i)\n",
    "print(copia_aleatorios)"
   ]
  },
  {
   "cell_type": "code",
   "execution_count": null,
   "metadata": {
    "colab": {
     "base_uri": "https://localhost:8080/",
     "height": 34
    },
    "colab_type": "code",
    "id": "Zjf5TKYF4Jzm",
    "outputId": "d00105f5-3419-42f1-8977-8a08f77c5b03"
   },
   "outputs": [],
   "source": []
  },
  {
   "cell_type": "markdown",
   "metadata": {
    "colab_type": "text",
    "id": "U0CYwlK9w4XU"
   },
   "source": [
    "> * Usando o método **copy()**"
   ]
  },
  {
   "cell_type": "code",
   "execution_count": 150,
   "metadata": {
    "colab": {},
    "colab_type": "code",
    "id": "tEROu5hAThQX"
   },
   "outputs": [
    {
     "name": "stdout",
     "output_type": "stream",
     "text": [
      "[15, 5, 13, 37, 16, 29, 14, 2, 50, 37, 39, 34, 4, 44, 4, 8, 1, 43, 50, 40, 33, 40, 29, 33, 40, 30, 43, 23, 35, 19]\n"
     ]
    }
   ],
   "source": [
    "copia_aleatorios2 = list(valores_aleatorios.copy())\n",
    "print(copia_aleatorios2)"
   ]
  },
  {
   "cell_type": "code",
   "execution_count": null,
   "metadata": {
    "colab": {
     "base_uri": "https://localhost:8080/",
     "height": 52
    },
    "colab_type": "code",
    "id": "RwcNkFo7ThBA",
    "outputId": "6a58fe87-d8f2-4c0e-ac3d-385cf95e3fef"
   },
   "outputs": [],
   "source": []
  },
  {
   "cell_type": "markdown",
   "metadata": {
    "colab_type": "text",
    "id": "4ILSOLbi4JYV"
   },
   "source": [
    "**DISCUSSÃO IMPORTANTE:** "
   ]
  },
  {
   "cell_type": "markdown",
   "metadata": {
    "colab_type": "text",
    "id": "5s1f90u54PGy"
   },
   "source": [
    "Repare que atribuir a lista antiga a uma nova variável **NÃO** é uma solução para esse problema de cópia.\n",
    "\n",
    "Exemplo:"
   ]
  },
  {
   "cell_type": "code",
   "execution_count": 156,
   "metadata": {
    "colab": {
     "base_uri": "https://localhost:8080/",
     "height": 52
    },
    "colab_type": "code",
    "id": "Im_qgWip4g_C",
    "outputId": "824e05b4-a3f9-4cf4-8727-28252693495c"
   },
   "outputs": [
    {
     "name": "stdout",
     "output_type": "stream",
     "text": [
      "[[1, 2, 3, 4, 5, 6, 7, 8, 9, 10, 11, 12, 13, 14, 15, 16, 17, 18, 19, 20, 21]]\n",
      "[[1, 2, 3, 4, 5, 6, 7, 8, 9, 10, 11, 12, 13, 14, 15, 16, 17, 18, 19, 20, 21]]\n",
      "Cópia  pós alteração na lista que originou ela, conclui-se que são o mesmo objeto: ['alteração']\n"
     ]
    }
   ],
   "source": [
    "exemplo = [list(range(1,22))]\n",
    "copy_exemplo = exemplo\n",
    "print(exemplo)\n",
    "print(copy_exemplo)\n",
    "\n",
    "copy_exemplo = exemplo\n",
    "exemplo[0] = \"alteração\"\n",
    "print(f'Cópia  pós alteração na lista que originou ela, conclui-se que são o mesmo objeto: {copy_exemplo}')"
   ]
  },
  {
   "cell_type": "markdown",
   "metadata": {
    "colab_type": "text",
    "id": "rp8Evvs14p-0"
   },
   "source": [
    "Apesar de parecerem cópias, as duas listas são o mesmo objeto.\n",
    "\n",
    "Ou seja, **se eu tentar mudar um, o outro também será alterado!!**"
   ]
  },
  {
   "cell_type": "code",
   "execution_count": 137,
   "metadata": {
    "colab": {
     "base_uri": "https://localhost:8080/",
     "height": 52
    },
    "colab_type": "code",
    "id": "kIAEPeAV44YJ",
    "outputId": "76394684-6140-4ee9-8f21-c0be00ce0e79"
   },
   "outputs": [
    {
     "name": "stdout",
     "output_type": "stream",
     "text": [
      "A lista modificada [] e sua cópia []\n"
     ]
    }
   ],
   "source": [
    "exemplo.pop()\n",
    "\n",
    "print(f'A lista modificada {exemplo} e sua cópia {copy_exemplo}')"
   ]
  },
  {
   "cell_type": "markdown",
   "metadata": {
    "colab_type": "text",
    "id": "OMndPSjk5Y4o"
   },
   "source": [
    "Isso não acontece quando copiamos elemento a elemento no **for** ou quando utilizamos o método **copy()**. Verifique! "
   ]
  },
  {
   "cell_type": "markdown",
   "metadata": {
    "colab_type": "text",
    "id": "9aQ0XB3YPHCE"
   },
   "source": [
    "### Questão 2: "
   ]
  },
  {
   "cell_type": "markdown",
   "metadata": {
    "colab_type": "text",
    "id": "mr16zqfNdowS"
   },
   "source": [
    "*   Plote um histograma do vetor aleatório criado"
   ]
  },
  {
   "cell_type": "markdown",
   "metadata": {
    "colab_type": "text",
    "id": "T9myvPtSVDBw"
   },
   "source": [
    "Para criar o histograma use a mesma biblioteca **matplotlib.pyplot** usada no exercício anterior: **import matplotlib.pyplot as plt** \n",
    "\n",
    "Porém, com um método diferente: **plt.hist(nome_lista)**. \n",
    "\n",
    "Em seguida use o comando **plt.show()**"
   ]
  },
  {
   "cell_type": "code",
   "execution_count": 138,
   "metadata": {
    "colab": {},
    "colab_type": "code",
    "id": "l9TbCCdp8F_6"
   },
   "outputs": [
    {
     "data": {
      "text/plain": [
       "<function matplotlib.pyplot.show(close=None, block=None)>"
      ]
     },
     "execution_count": 138,
     "metadata": {},
     "output_type": "execute_result"
    },
    {
     "data": {
      "image/png": "[encoded data removed]",
      "text/plain": [
       "<Figure size 640x480 with 1 Axes>"
      ]
     },
     "metadata": {},
     "output_type": "display_data"
    }
   ],
   "source": [
    "# usando o matplotlib novamente\n",
    "\n",
    "plt.hist(valores_aleatorios, color='pink')\n",
    "plt.show"
   ]
  },
  {
   "cell_type": "markdown",
   "metadata": {
    "colab_type": "text",
    "id": "E-g380ivYk-Z"
   },
   "source": [
    "### Questão 3:  "
   ]
  },
  {
   "cell_type": "markdown",
   "metadata": {
    "colab_type": "text",
    "id": "c9GzLz2OiLHU"
   },
   "source": [
    "Usando a cópia feita do vetor na questão 1:\n",
    "\n",
    "* Crie uma função chamada ordenaLista() que recebe uma lista como parâmetro e retorna uma lista em ordem crescente "
   ]
  },
  {
   "cell_type": "markdown",
   "metadata": {
    "colab_type": "text",
    "id": "h5qkP3Co7PxL"
   },
   "source": [
    "**APOIO TEÓRICO**"
   ]
  },
  {
   "cell_type": "markdown",
   "metadata": {
    "colab_type": "text",
    "id": "tSvW0KXxlHX-"
   },
   "source": [
    "Muitas vezes quando estamos programando precisamos de um conjunto de dados que esteja ordenado. Para isso, temos uma gama de algoritmos que podemos usar. Dentre os mais simples, podemos citar:\n",
    "\n",
    "* **Bubble sort**:\n",
    "\n",
    "A ordenação por flutuação, ou bubble sort, é o algoritmo de ordenação mais simples. A ideia é sempre iterar toda a lista de itens quantas vezes forem necessário até que os itens estejam na ordem correta. Ele compara itens adjacentes e troca aqueles que estão fora de ordem. Cada passagem pela lista coloca o próximo maior valor na sua posição correta.\n",
    "\n",
    "Veja o vídeo a seguir para entender melhor: [vídeo bubble sort](https://www.youtube.com/watch?v=lyZQPjUT5B4)\n",
    "\n",
    "Para construir seu código, siga o pseudocódigo a seguir:\n",
    "\n",
    "\n",
    "\n",
    "```\n",
    "procedimento BubbleSort(A : lista, N: tamanho): \n",
    "     para j → 1 até N-1 faça\n",
    "        para i → 1 até N-1 faça\n",
    "            se A[i] > A[i+1] então\n",
    "                aux → A[i];\n",
    "                A[i] → A[i+1];\n",
    "                A[i+1] → aux;\n",
    "            fim-se\n",
    "        fim-para\n",
    "    fim-para\n",
    "```"
   ]
  },
  {
   "cell_type": "markdown",
   "metadata": {
    "colab_type": "text",
    "id": "QUXvLc06w4YT"
   },
   "source": [
    "* **Insertion sort**: \n",
    "\n",
    "É o método que percorre um vetor de elementos da esquerda para a direita e à medida que avança vai ordenando os elementos à esquerda. O algoritmo consiste em a cada passo da iteraçã, a partir do segundo elemento, selecionar o próximo item da sequência e colocá-lo no local apropriado de acordo com o critério de ordenação.\n",
    "\n",
    "Veja o vídeo a seguir para entender melhor: [vídeo insertion sort](https://www.youtube.com/watch?v=ROalU379l3U)\n",
    "\n",
    "Para entender melhor como funciona o algoritmo do insertioin sort veja o pseudocódigo:\n",
    "\n",
    "```\n",
    "procedimento Insertion_sort (A: lista, N: tamanho)\n",
    "        para j -> 1 até N - 1 faça\n",
    "                eleito <- A[i];\n",
    "                j <- i-1;\n",
    "                enquanto ((j>=0) e (eleito < A[j])) faça\n",
    "                          A[j+1]-> A[j]; # Elemento de lista numerada\n",
    "                          j -> j-1;\n",
    "                fim enquanto\n",
    "                A[j+1] <- eleito;\n",
    "        fim para\n",
    "```"
   ]
  },
  {
   "cell_type": "code",
   "execution_count": 163,
   "metadata": {
    "colab": {},
    "colab_type": "code",
    "id": "hW2RHFL9ZuZN"
   },
   "outputs": [
    {
     "name": "stdout",
     "output_type": "stream",
     "text": [
      "[2, 3, 4, 5, 7, 8, 21, 29, 51, 97]\n",
      "[1, 2, 4, 4, 5, 8, 13, 14, 15, 16, 19, 23, 29, 29, 30, 33, 33, 34, 35, 37, 37, 39, 40, 40, 40, 43, 43, 44, 50, 50]\n"
     ]
    }
   ],
   "source": [
    "def ordenaLista(lista):\n",
    "    for i in range(1, len(lista)):\n",
    "        eleito = lista[i]\n",
    "        k = i\n",
    "        while k > 0 and eleito < lista[k - 1]:\n",
    "            lista[k] = lista[k - 1]\n",
    "            k -= 1 # equivalente a k = k -1\n",
    "        lista[k] = eleito\n",
    "            \n",
    "    return lista\n",
    "\n",
    "print(ordenaLista([8, 2, 97, 51, 3, 21, 29, 4 , 7,5]))\n",
    "print(ordenaLista(valores_aleatorios))"
   ]
  },
  {
   "cell_type": "code",
   "execution_count": 160,
   "metadata": {
    "colab": {
     "base_uri": "https://localhost:8080/",
     "height": 34
    },
    "colab_type": "code",
    "id": "tb6B-QvAZuE5",
    "outputId": "fb794ae1-b0e9-43a7-a997-42cf98a984c9"
   },
   "outputs": [
    {
     "name": "stdout",
     "output_type": "stream",
     "text": [
      "[1, 2, 4, 4, 5, 8, 13, 14, 15, 16, 19, 23, 29, 29, 30, 33, 33, 34, 35, 37, 37, 39, 40, 40, 40, 43, 43, 44, 50, 50]\n"
     ]
    }
   ],
   "source": [
    "valores_aleatorios.sort()\n",
    "print(valores_aleatorios)"
   ]
  },
  {
   "cell_type": "markdown",
   "metadata": {
    "colab_type": "text",
    "id": "FDa8pJpkPLog"
   },
   "source": [
    "### Questão 4: "
   ]
  },
  {
   "cell_type": "markdown",
   "metadata": {
    "colab_type": "text",
    "id": "Cv6QicXPd1tA"
   },
   "source": [
    "Sobre o vetor aleatório criado na Questão 1.\n",
    "\n",
    "Vamos trabalhar com cálculo de **medidas de tendência central**.\n",
    "\n"
   ]
  },
  {
   "cell_type": "markdown",
   "metadata": {
    "colab_type": "text",
    "id": "2oDFX84f-WXt"
   },
   "source": [
    "*   Calcule a média\n",
    "\n",
    "A média é uma medida de tendência central dada pela divisão do somatório dos números dados pela quantidade de números somados. Sua fórmula é dada por: \n",
    "\n",
    "\\begin{align}\n",
    "Média =\\frac{x_{1} + x_{2} + \\cdots + x_{n}}{n}\n",
    "\\end{align}\n",
    "\n",
    "Em que n é a quantidade total de números "
   ]
  },
  {
   "cell_type": "code",
   "execution_count": 140,
   "metadata": {
    "colab": {
     "base_uri": "https://localhost:8080/",
     "height": 34
    },
    "colab_type": "code",
    "id": "THTtWAtyPOqk",
    "outputId": "76aba892-8d1a-491c-eb6b-293838d51305"
   },
   "outputs": [
    {
     "data": {
      "text/plain": [
       "26.066666666666666"
      ]
     },
     "execution_count": 140,
     "metadata": {},
     "output_type": "execute_result"
    }
   ],
   "source": [
    "def calcular_media (lista):\n",
    "    media = sum(lista)/len(lista)\n",
    "    return media\n",
    "\n",
    "calcular_media(valores_aleatorios)"
   ]
  },
  {
   "cell_type": "markdown",
   "metadata": {},
   "source": [
    "No dia a dia de trabalho, podemos utilizar o método **mean()** da biblioteca **statistics**"
   ]
  },
  {
   "cell_type": "code",
   "execution_count": 141,
   "metadata": {},
   "outputs": [
    {
     "data": {
      "text/plain": [
       "26.066666666666666"
      ]
     },
     "execution_count": 141,
     "metadata": {},
     "output_type": "execute_result"
    }
   ],
   "source": [
    "from statistics import mean\n",
    "\n",
    "mean(valores_aleatorios)"
   ]
  },
  {
   "cell_type": "markdown",
   "metadata": {
    "colab_type": "text",
    "id": "BsS8654rdP9I"
   },
   "source": [
    "*   Calcule a mediana\n",
    "\n",
    "Quando nosso conjunto de números estiver organizado em ordem crescente ou decrescente, a mediana será o número que ocupa a posição central da lista. Se a lista possuir um número par de informações, para encontrar a mediana, devemos encontrar os dois valores centrais (a1 e a2) da lista, somá-los e dividir o resultado por 2. \n",
    "\n"
   ]
  },
  {
   "cell_type": "code",
   "execution_count": 182,
   "metadata": {
    "colab": {
     "base_uri": "https://localhost:8080/",
     "height": 34
    },
    "colab_type": "code",
    "id": "twqXvv9wYkiD",
    "outputId": "f9589162-d609-4a90-b6a6-054446f6aeb1"
   },
   "outputs": [
    {
     "data": {
      "text/plain": [
       "15.5"
      ]
     },
     "execution_count": 182,
     "metadata": {},
     "output_type": "execute_result"
    }
   ],
   "source": [
    "def calcular_mediana(lista):\n",
    "    lista.sort()\n",
    "    tamanho = len(lista)\n",
    "    if tamanho%2 == 0:\n",
    "        mediana = ((tamanho/2 + (tamanho/2 + 1)) / 2)\n",
    "    else:\n",
    "        mediana =  tamanho/2\n",
    "    return mediana\n",
    "\n",
    "mediana = calcular_mediana(valores_aleatorios)\n",
    "mediana"
   ]
  },
  {
   "cell_type": "markdown",
   "metadata": {},
   "source": [
    "No dia a dia de trabalho, podemos utilizar o método **median()** da biblioteca **statistics**"
   ]
  },
  {
   "cell_type": "code",
   "execution_count": 143,
   "metadata": {},
   "outputs": [
    {
     "data": {
      "text/plain": [
       "23.5"
      ]
     },
     "execution_count": 143,
     "metadata": {},
     "output_type": "execute_result"
    }
   ],
   "source": [
    "from statistics import median\n",
    "\n",
    "median(valores_aleatorios)"
   ]
  },
  {
   "cell_type": "markdown",
   "metadata": {
    "colab_type": "text",
    "id": "MRvliDVJelGE"
   },
   "source": [
    "*  Calcule a moda\n",
    "\n",
    "Chamamos de moda o valor mais frequente dentro do nosso conjunto de dados. Podemos ter conjuntos numéricos bimodais, ou seja, com **duas** modas, e amodais, com **nenhuma** moda."
   ]
  },
  {
   "cell_type": "code",
   "execution_count": 181,
   "metadata": {
    "colab": {
     "base_uri": "https://localhost:8080/",
     "height": 34
    },
    "colab_type": "code",
    "id": "UtMgzHvjepPj",
    "outputId": "32dd583b-1798-48b5-e5cf-59325e98b687"
   },
   "outputs": [
    {
     "data": {
      "text/plain": [
       "40"
      ]
     },
     "execution_count": 181,
     "metadata": {},
     "output_type": "execute_result"
    }
   ],
   "source": [
    "def calcular_moda(lista):\n",
    "    frequencia = {}\n",
    "    for i in lista:\n",
    "        if i in frequencia:\n",
    "            frequencia[i] += 1\n",
    "        else:\n",
    "            frequencia[i] = 1\n",
    "    \n",
    "    moda = max(frequencia, key=frequencia.get)\n",
    "    return moda\n",
    "\n",
    "moda = calcular_moda(valores_aleatorios)\n",
    "moda"
   ]
  },
  {
   "cell_type": "markdown",
   "metadata": {},
   "source": [
    "No dia a dia de trabalho, podemos utilizar a função **Counter()** da biblioteca **collections** para nos auxiliar nesse calculo de moda."
   ]
  },
  {
   "cell_type": "markdown",
   "metadata": {},
   "source": [
    "Perceba que como o nosso cunjunto é muito pequeno e a variabilidade de valores pode ser grade, a propabilidade de termos uma situação com mais de uma moda pode ser mais comum. \n",
    "\n",
    "Com essa função, a gente pode calcular a frequencia da ocorrencia de cada valor e identificar situações multimodais. "
   ]
  },
  {
   "cell_type": "code",
   "execution_count": 164,
   "metadata": {},
   "outputs": [
    {
     "data": {
      "text/plain": [
       "Counter({40: 3,\n",
       "         4: 2,\n",
       "         29: 2,\n",
       "         33: 2,\n",
       "         37: 2,\n",
       "         43: 2,\n",
       "         50: 2,\n",
       "         1: 1,\n",
       "         2: 1,\n",
       "         5: 1,\n",
       "         8: 1,\n",
       "         13: 1,\n",
       "         14: 1,\n",
       "         15: 1,\n",
       "         16: 1,\n",
       "         19: 1,\n",
       "         23: 1,\n",
       "         30: 1,\n",
       "         34: 1,\n",
       "         35: 1,\n",
       "         39: 1,\n",
       "         44: 1})"
      ]
     },
     "execution_count": 164,
     "metadata": {},
     "output_type": "execute_result"
    }
   ],
   "source": [
    "from collections import Counter\n",
    "\n",
    "Counter(valores_aleatorios)"
   ]
  },
  {
   "cell_type": "markdown",
   "metadata": {
    "colab_type": "text",
    "id": "vpQjwpAJepwZ"
   },
   "source": [
    "* Calcule o desvio padrão \n",
    "\n",
    "O desvio padrão é uma medida mostra o grau de dispersão de um conjunto de dados. Ou seja, ele indica o quanto um conjunto de dados é uniforme. Quanto mais próximo de 0 for o desvio padrão, mais homogêneo são os dados. Sua fórmula é dada por: \n",
    "\n",
    "\\begin{align}\n",
    "DP = \\sqrt{ \\frac{\\sum |{x - \\mu}|^2 } {n}}\n",
    "\\end{align}\n",
    "\n",
    "que significa o somatório do valor absoluto de valores x de um conjunto de dados menos a média do conjunto de dados dividido pelo número de dados da população\n",
    "\n",
    "O desvio padrão pode ser calculado da seguinte forma:\n",
    "\n",
    "* Etapa 1: calcular a média;\n",
    "* Etapa 2: calcular o quadrado da distância entre cada ponto e a média;\n",
    "* Etapa 3: somar os valores da Etapa 2;\n",
    "* Etapa 4: dividir pelo número de pontos.\n",
    "* Etapa 5: calcular a raiz quadrada."
   ]
  },
  {
   "cell_type": "code",
   "execution_count": 174,
   "metadata": {
    "colab": {
     "base_uri": "https://localhost:8080/",
     "height": 34
    },
    "colab_type": "code",
    "id": "Re1jMQ9heuyN",
    "outputId": "a2cf554b-637e-473f-e410-f21a0f690a11"
   },
   "outputs": [
    {
     "data": {
      "text/plain": [
       "15.084208077765744"
      ]
     },
     "execution_count": 174,
     "metadata": {},
     "output_type": "execute_result"
    }
   ],
   "source": [
    "import math as mt\n",
    "\n",
    "media = sum(valores_aleatorios) / len(valores_aleatorios)\n",
    "dife_media = [(x - media)**2 for x in valores_aleatorios]\n",
    "variancia = sum(dife_media) / len(dife_media)\n",
    "dev_pad = mt.sqrt(variancia)\n",
    "\n",
    "dev_pad"
   ]
  },
  {
   "cell_type": "markdown",
   "metadata": {},
   "source": [
    "No dia a dia de trabalho, podemos utilizar a função **pstdev()** da biblioteca **statistics**"
   ]
  },
  {
   "cell_type": "code",
   "execution_count": 176,
   "metadata": {},
   "outputs": [
    {
     "data": {
      "text/plain": [
       "15.084208077765744"
      ]
     },
     "execution_count": 176,
     "metadata": {},
     "output_type": "execute_result"
    }
   ],
   "source": [
    "import statistics as stats\n",
    "\n",
    "stats.pstdev(valores_aleatorios)"
   ]
  },
  {
   "cell_type": "markdown",
   "metadata": {
    "colab_type": "text",
    "id": "VeVJzSpYevJa"
   },
   "source": [
    "* Calcule a variância \n",
    "\n",
    "A variância é uma medida de dispersão que mostra o quão distante cada valor desse conjunto está do valor central. Quanto menor é a variância, mais próximos os valores estão da média; mas quanto maior ela é, mais os valores estão distantes da média.\n",
    "\n",
    "Essa medida é dada pelo quadrado do desvio padrão: \n",
    "\n",
    "\\begin{align}\n",
    "var = \\sigma ^2\n",
    "\\end{align}"
   ]
  },
  {
   "cell_type": "code",
   "execution_count": 178,
   "metadata": {
    "colab": {
     "base_uri": "https://localhost:8080/",
     "height": 34
    },
    "colab_type": "code",
    "id": "JRZviIBRe33f",
    "outputId": "d37b7b85-31bb-4bbd-9ca5-196925a5dc7c"
   },
   "outputs": [
    {
     "data": {
      "text/plain": [
       "227.53333333333333"
      ]
     },
     "execution_count": 178,
     "metadata": {},
     "output_type": "execute_result"
    }
   ],
   "source": [
    "var = dev_pad ** 2\n",
    "var"
   ]
  },
  {
   "cell_type": "markdown",
   "metadata": {},
   "source": [
    "Podemos também utilizar a função **pvariance()** da biblioteca **statistics**"
   ]
  },
  {
   "cell_type": "code",
   "execution_count": 179,
   "metadata": {},
   "outputs": [
    {
     "data": {
      "text/plain": [
       "227.53333333333333"
      ]
     },
     "execution_count": 179,
     "metadata": {},
     "output_type": "execute_result"
    }
   ],
   "source": [
    "stats.pvariance(valores_aleatorios)"
   ]
  },
  {
   "cell_type": "markdown",
   "metadata": {
    "colab_type": "text",
    "id": "j8jlHgMze5SJ"
   },
   "source": [
    "* Salve em um dicionário as informações obtidas\n"
   ]
  },
  {
   "cell_type": "code",
   "execution_count": 183,
   "metadata": {
    "colab": {
     "base_uri": "https://localhost:8080/",
     "height": 104
    },
    "colab_type": "code",
    "id": "SkCnJtyVfCz2",
    "outputId": "8b787f77-e677-42c6-d4e2-e320eb79738e"
   },
   "outputs": [
    {
     "data": {
      "text/plain": [
       "{'média': 27.0,\n",
       " 'mediana': 15.5,\n",
       " 'moda': 40,\n",
       " 'desvio padrão': 15.084208077765744,\n",
       " 'variância': 227.53333333333333}"
      ]
     },
     "execution_count": 183,
     "metadata": {},
     "output_type": "execute_result"
    }
   ],
   "source": [
    "infos = {\"média\": media,\n",
    "         \"mediana\": mediana,\n",
    "        \"moda\": moda,\n",
    "        \"desvio padrão\": dev_pad,\n",
    "        \"variância\": var\n",
    "}\n",
    "\n",
    "infos"
   ]
  },
  {
   "cell_type": "markdown",
   "metadata": {
    "colab_type": "text",
    "id": "qIS-LjkPfFrS"
   },
   "source": [
    "* Salve o dicionário em um arquivo"
   ]
  },
  {
   "cell_type": "markdown",
   "metadata": {
    "colab_type": "text",
    "id": "O8O8vFIUgq30"
   },
   "source": [
    "Para salvar o dicionário em um arquivo txt é preciso seguir os seguintes passos:\n",
    "\n",
    "1. Crie um arquivo **.txt** em branco na mesma pasta que este notebook está salvo\n",
    "2. Abra o arquivo com o comando **arquivo = open('nome_do_arquivo.txt','w')**\n",
    "3. Escreva o dicionario nesse arquivo com o comando **arquivo.write(str(dicionario))**\n",
    "4. Feche o arquivo com o comando **arquivo.close()**\n",
    "\n",
    "Depois, abra o seu bloco de notas e veja se o dicionário que foi escrito \u001c\n",
    "está correto\n",
    "\n"
   ]
  },
  {
   "cell_type": "code",
   "execution_count": 186,
   "metadata": {
    "colab": {},
    "colab_type": "code",
    "id": "O2X_UPjLfLvI"
   },
   "outputs": [],
   "source": [
    "arquivo = open('medidas_descritivas.txt', 'w')\n",
    "arquivo.write(str(infos))\n",
    "arquivo.close()"
   ]
  }
 ],
 "metadata": {
  "colab": {
   "collapsed_sections": [
    "T3_UNsQ0LB1W",
    "CFwtO8v0DVNB",
    "L5x-YBL4HL9M",
    "aDy0Kbf0ISeS",
    "9aQ0XB3YPHCE"
   ],
   "name": "exercicios_finais_(feito).ipynb",
   "provenance": []
  },
  "kernelspec": {
   "display_name": "Python 3",
   "language": "python",
   "name": "python3"
  },
  "language_info": {
   "codemirror_mode": {
    "name": "ipython",
    "version": 3
   },
   "file_extension": ".py",
   "mimetype": "text/x-python",
   "name": "python",
   "nbconvert_exporter": "python",
   "pygments_lexer": "ipython3",
   "version": "3.13.0"
  }
 },
 "nbformat": 4,
 "nbformat_minor": 1
}
